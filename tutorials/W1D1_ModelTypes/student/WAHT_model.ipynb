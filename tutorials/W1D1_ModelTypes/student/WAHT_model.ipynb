{
  "nbformat": 4,
  "nbformat_minor": 0,
  "metadata": {
    "colab": {
      "name": "W1D1_Tutorial1",
      "provenance": [],
      "collapsed_sections": [],
      "include_colab_link": true
    },
    "kernel": {
      "display_name": "Python 3",
      "language": "python",
      "name": "python3"
    },
    "kernelspec": {
      "display_name": "Python 3",
      "name": "python3"
    },
    "language_info": {
      "codemirror_mode": {
        "name": "ipython",
        "version": 3
      },
      "file_extension": ".py",
      "mimetype": "text/x-python",
      "name": "python",
      "nbconvert_exporter": "python",
      "pygments_lexer": "ipython3",
      "version": "3.7.10"
    },
    "widgets": {
      "application/vnd.jupyter.widget-state+json": {
        "5ddfc0ddf35e42a5858801f2ed25f787": {
          "model_module": "@jupyter-widgets/controls",
          "model_name": "TabModel",
          "state": {
            "_view_name": "TabView",
            "_dom_classes": [],
            "_titles": {
              "0": "Youtube",
              "1": "Bilibili"
            },
            "_model_name": "TabModel",
            "_view_module": "@jupyter-widgets/controls",
            "selected_index": 1,
            "_model_module_version": "1.5.0",
            "_view_count": null,
            "_view_module_version": "1.5.0",
            "box_style": "",
            "layout": "IPY_MODEL_1163cdb642804721ac69ae1f55be249a",
            "_model_module": "@jupyter-widgets/controls",
            "children": [
              "IPY_MODEL_f6e5e4d0b70e4d518537c04923de1612",
              "IPY_MODEL_89c1722e0a8a4482b00cae5e9e17f862"
            ]
          }
        },
        "1163cdb642804721ac69ae1f55be249a": {
          "model_module": "@jupyter-widgets/base",
          "model_name": "LayoutModel",
          "state": {
            "_view_name": "LayoutView",
            "grid_template_rows": null,
            "right": null,
            "justify_content": null,
            "_view_module": "@jupyter-widgets/base",
            "overflow": null,
            "_model_module_version": "1.2.0",
            "_view_count": null,
            "flex_flow": null,
            "width": null,
            "min_width": null,
            "border": null,
            "align_items": null,
            "bottom": null,
            "_model_module": "@jupyter-widgets/base",
            "top": null,
            "grid_column": null,
            "overflow_y": null,
            "overflow_x": null,
            "grid_auto_flow": null,
            "grid_area": null,
            "grid_template_columns": null,
            "flex": null,
            "_model_name": "LayoutModel",
            "justify_items": null,
            "grid_row": null,
            "max_height": null,
            "align_content": null,
            "visibility": null,
            "align_self": null,
            "height": null,
            "min_height": null,
            "padding": null,
            "grid_auto_rows": null,
            "grid_gap": null,
            "max_width": null,
            "order": null,
            "_view_module_version": "1.2.0",
            "grid_template_areas": null,
            "object_position": null,
            "object_fit": null,
            "grid_auto_columns": null,
            "margin": null,
            "display": null,
            "left": null
          }
        },
        "f6e5e4d0b70e4d518537c04923de1612": {
          "model_module": "@jupyter-widgets/output",
          "model_name": "OutputModel",
          "state": {
            "_view_name": "OutputView",
            "msg_id": "",
            "_dom_classes": [],
            "_model_name": "OutputModel",
            "outputs": [
              {
                "output_type": "stream",
                "metadata": {
                  "tags": []
                },
                "text": "Video available at https://youtube.com/watch?v=QGA5FCW7kkA\n",
                "stream": "stdout"
              },
              {
                "output_type": "display_data",
                "metadata": {
                  "tags": []
                },
                "text/html": "\n        <iframe\n            width=\"854\"\n            height=\"480\"\n            src=\"https://www.youtube.com/embed/QGA5FCW7kkA?fs=1&rel=0\"\n            frameborder=\"0\"\n            allowfullscreen\n        ></iframe>\n        ",
                "text/plain": "<IPython.lib.display.YouTubeVideo at 0x7fc73ec791d0>",
                "image/jpeg": "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\n"
              }
            ],
            "_view_module": "@jupyter-widgets/output",
            "_model_module_version": "1.0.0",
            "_view_count": null,
            "_view_module_version": "1.0.0",
            "layout": "IPY_MODEL_acef9e650b804a2f84017fbce1800efc",
            "_model_module": "@jupyter-widgets/output"
          }
        },
        "89c1722e0a8a4482b00cae5e9e17f862": {
          "model_module": "@jupyter-widgets/output",
          "model_name": "OutputModel",
          "state": {
            "_view_name": "OutputView",
            "msg_id": "",
            "_dom_classes": [],
            "_model_name": "OutputModel",
            "outputs": [
              {
                "output_type": "stream",
                "metadata": {
                  "tags": []
                },
                "text": "Video available at https://www.bilibili.com/video/BV1dt4y1Q7C5\n",
                "stream": "stdout"
              },
              {
                "output_type": "display_data",
                "metadata": {
                  "tags": []
                },
                "text/html": "\n        <iframe\n            width=\"854\"\n            height=\"480\"\n            src=\"https://player.bilibili.com/player.html?bvid=BV1dt4y1Q7C5&page=1?fs=1\"\n            frameborder=\"0\"\n            allowfullscreen\n        ></iframe>\n        ",
                "text/plain": "<__main__.BiliVideo at 0x7fc73ec796d0>"
              }
            ],
            "_view_module": "@jupyter-widgets/output",
            "_model_module_version": "1.0.0",
            "_view_count": null,
            "_view_module_version": "1.0.0",
            "layout": "IPY_MODEL_ef7bac5bd12b4d2ab6c4db5d0558bcd4",
            "_model_module": "@jupyter-widgets/output"
          }
        },
        "acef9e650b804a2f84017fbce1800efc": {
          "model_module": "@jupyter-widgets/base",
          "model_name": "LayoutModel",
          "state": {
            "_view_name": "LayoutView",
            "grid_template_rows": null,
            "right": null,
            "justify_content": null,
            "_view_module": "@jupyter-widgets/base",
            "overflow": null,
            "_model_module_version": "1.2.0",
            "_view_count": null,
            "flex_flow": null,
            "width": null,
            "min_width": null,
            "border": null,
            "align_items": null,
            "bottom": null,
            "_model_module": "@jupyter-widgets/base",
            "top": null,
            "grid_column": null,
            "overflow_y": null,
            "overflow_x": null,
            "grid_auto_flow": null,
            "grid_area": null,
            "grid_template_columns": null,
            "flex": null,
            "_model_name": "LayoutModel",
            "justify_items": null,
            "grid_row": null,
            "max_height": null,
            "align_content": null,
            "visibility": null,
            "align_self": null,
            "height": null,
            "min_height": null,
            "padding": null,
            "grid_auto_rows": null,
            "grid_gap": null,
            "max_width": null,
            "order": null,
            "_view_module_version": "1.2.0",
            "grid_template_areas": null,
            "object_position": null,
            "object_fit": null,
            "grid_auto_columns": null,
            "margin": null,
            "display": null,
            "left": null
          }
        },
        "ef7bac5bd12b4d2ab6c4db5d0558bcd4": {
          "model_module": "@jupyter-widgets/base",
          "model_name": "LayoutModel",
          "state": {
            "_view_name": "LayoutView",
            "grid_template_rows": null,
            "right": null,
            "justify_content": null,
            "_view_module": "@jupyter-widgets/base",
            "overflow": null,
            "_model_module_version": "1.2.0",
            "_view_count": null,
            "flex_flow": null,
            "width": null,
            "min_width": null,
            "border": null,
            "align_items": null,
            "bottom": null,
            "_model_module": "@jupyter-widgets/base",
            "top": null,
            "grid_column": null,
            "overflow_y": null,
            "overflow_x": null,
            "grid_auto_flow": null,
            "grid_area": null,
            "grid_template_columns": null,
            "flex": null,
            "_model_name": "LayoutModel",
            "justify_items": null,
            "grid_row": null,
            "max_height": null,
            "align_content": null,
            "visibility": null,
            "align_self": null,
            "height": null,
            "min_height": null,
            "padding": null,
            "grid_auto_rows": null,
            "grid_gap": null,
            "max_width": null,
            "order": null,
            "_view_module_version": "1.2.0",
            "grid_template_areas": null,
            "object_position": null,
            "object_fit": null,
            "grid_auto_columns": null,
            "margin": null,
            "display": null,
            "left": null
          }
        },
        "82489b1f6d324994baea5df47473eca8": {
          "model_module": "@jupyter-widgets/controls",
          "model_name": "VBoxModel",
          "state": {
            "_view_name": "VBoxView",
            "_dom_classes": [
              "widget-interact"
            ],
            "_model_name": "VBoxModel",
            "_view_module": "@jupyter-widgets/controls",
            "_model_module_version": "1.5.0",
            "_view_count": null,
            "_view_module_version": "1.5.0",
            "box_style": "",
            "layout": "IPY_MODEL_1d3996b565a640ec8f9b56256bc7ba40",
            "_model_module": "@jupyter-widgets/controls",
            "children": [
              "IPY_MODEL_1abba8144db14d6a9ead37b23839dfa9",
              "IPY_MODEL_6235fd532f554fa0b38ba80a4153e47b",
              "IPY_MODEL_760bf62d255947919dbbc962cf1f9e26",
              "IPY_MODEL_fac1edc7b34a42af98c6bc9ec9339e4f",
              "IPY_MODEL_53f3755b5f274796ad0da918c3da5419",
              "IPY_MODEL_b284bd849f94498bb6e5e668d06bc48e",
              "IPY_MODEL_47ead26e3a3e4152a1c8d46439de96f6",
              "IPY_MODEL_a76f6404e2aa467f999073446372d226"
            ]
          }
        },
        "1d3996b565a640ec8f9b56256bc7ba40": {
          "model_module": "@jupyter-widgets/base",
          "model_name": "LayoutModel",
          "state": {
            "_view_name": "LayoutView",
            "grid_template_rows": null,
            "right": null,
            "justify_content": null,
            "_view_module": "@jupyter-widgets/base",
            "overflow": null,
            "_model_module_version": "1.2.0",
            "_view_count": null,
            "flex_flow": null,
            "width": null,
            "min_width": null,
            "border": null,
            "align_items": null,
            "bottom": null,
            "_model_module": "@jupyter-widgets/base",
            "top": null,
            "grid_column": null,
            "overflow_y": null,
            "overflow_x": null,
            "grid_auto_flow": null,
            "grid_area": null,
            "grid_template_columns": null,
            "flex": null,
            "_model_name": "LayoutModel",
            "justify_items": null,
            "grid_row": null,
            "max_height": null,
            "align_content": null,
            "visibility": null,
            "align_self": null,
            "height": null,
            "min_height": null,
            "padding": null,
            "grid_auto_rows": null,
            "grid_gap": null,
            "max_width": null,
            "order": null,
            "_view_module_version": "1.2.0",
            "grid_template_areas": null,
            "object_position": null,
            "object_fit": null,
            "grid_auto_columns": null,
            "margin": null,
            "display": null,
            "left": null
          }
        },
        "1abba8144db14d6a9ead37b23839dfa9": {
          "model_module": "@jupyter-widgets/controls",
          "model_name": "FloatSliderModel",
          "state": {
            "_view_name": "FloatSliderView",
            "style": "IPY_MODEL_32673ea0575f4349830a1d9e0c779e9e",
            "_dom_classes": [],
            "description": "exp_scale",
            "step": 250,
            "_model_name": "FloatSliderModel",
            "orientation": "horizontal",
            "max": 20000,
            "_view_module": "@jupyter-widgets/controls",
            "_model_module_version": "1.5.0",
            "value": 7750,
            "_view_count": null,
            "disabled": false,
            "_view_module_version": "1.5.0",
            "min": 0,
            "continuous_update": true,
            "readout_format": ".2f",
            "description_tooltip": null,
            "readout": true,
            "_model_module": "@jupyter-widgets/controls",
            "layout": "IPY_MODEL_effccd7593b743699b67a89bd7866e78"
          }
        },
        "6235fd532f554fa0b38ba80a4153e47b": {
          "model_module": "@jupyter-widgets/controls",
          "model_name": "FloatSliderModel",
          "state": {
            "_view_name": "FloatSliderView",
            "style": "IPY_MODEL_c7b51802f6f246f2bad2397f73a02ca0",
            "_dom_classes": [],
            "description": "exp_rate",
            "step": 1,
            "_model_name": "FloatSliderModel",
            "orientation": "horizontal",
            "max": 50,
            "_view_module": "@jupyter-widgets/controls",
            "_model_module_version": "1.5.0",
            "value": -49,
            "_view_count": null,
            "disabled": false,
            "_view_module_version": "1.5.0",
            "min": -200,
            "continuous_update": true,
            "readout_format": ".2f",
            "description_tooltip": null,
            "readout": true,
            "_model_module": "@jupyter-widgets/controls",
            "layout": "IPY_MODEL_bd118bd948074b209dcc7edba6b4a2bc"
          }
        },
        "760bf62d255947919dbbc962cf1f9e26": {
          "model_module": "@jupyter-widgets/controls",
          "model_name": "FloatSliderModel",
          "state": {
            "_view_name": "FloatSliderView",
            "style": "IPY_MODEL_9f5fe508ec28411bb3147876e32e6e57",
            "_dom_classes": [],
            "description": "exp_x0",
            "step": 0.005,
            "_model_name": "FloatSliderModel",
            "orientation": "horizontal",
            "max": 0.5,
            "_view_module": "@jupyter-widgets/controls",
            "_model_module_version": "1.5.0",
            "value": 0.03,
            "_view_count": null,
            "disabled": false,
            "_view_module_version": "1.5.0",
            "min": -0.5,
            "continuous_update": true,
            "readout_format": ".2f",
            "description_tooltip": null,
            "readout": true,
            "_model_module": "@jupyter-widgets/controls",
            "layout": "IPY_MODEL_5db58809810f47edac3b3f92c9bcbb47"
          }
        },
        "fac1edc7b34a42af98c6bc9ec9339e4f": {
          "model_module": "@jupyter-widgets/controls",
          "model_name": "FloatSliderModel",
          "state": {
            "_view_name": "FloatSliderView",
            "style": "IPY_MODEL_4dbbd41da3234907a931f39ed00b42a4",
            "_dom_classes": [],
            "description": "inv_scale",
            "step": 10,
            "_model_name": "FloatSliderModel",
            "orientation": "horizontal",
            "max": 300,
            "_view_module": "@jupyter-widgets/controls",
            "_model_module_version": "1.5.0",
            "value": 170,
            "_view_count": null,
            "disabled": false,
            "_view_module_version": "1.5.0",
            "min": 0,
            "continuous_update": true,
            "readout_format": ".2f",
            "description_tooltip": null,
            "readout": true,
            "_model_module": "@jupyter-widgets/controls",
            "layout": "IPY_MODEL_a2c2d8e8fdd54b47ad9c109cdd5ef81c"
          }
        },
        "53f3755b5f274796ad0da918c3da5419": {
          "model_module": "@jupyter-widgets/controls",
          "model_name": "FloatSliderModel",
          "state": {
            "_view_name": "FloatSliderView",
            "style": "IPY_MODEL_b929722c9fcd4c2a801ae6bd8cbb86b5",
            "_dom_classes": [],
            "description": "inv_x0",
            "step": 0.01,
            "_model_name": "FloatSliderModel",
            "orientation": "horizontal",
            "max": 0.2,
            "_view_module": "@jupyter-widgets/controls",
            "_model_module_version": "1.5.0",
            "value": 0.07,
            "_view_count": null,
            "disabled": false,
            "_view_module_version": "1.5.0",
            "min": -0.2,
            "continuous_update": true,
            "readout_format": ".2f",
            "description_tooltip": null,
            "readout": true,
            "_model_module": "@jupyter-widgets/controls",
            "layout": "IPY_MODEL_db1bfdac1db14c968053e73c49027c8f"
          }
        },
        "b284bd849f94498bb6e5e668d06bc48e": {
          "model_module": "@jupyter-widgets/controls",
          "model_name": "FloatSliderModel",
          "state": {
            "_view_name": "FloatSliderView",
            "style": "IPY_MODEL_ea6ef8d0e666428686e5f2c01a274f07",
            "_dom_classes": [],
            "description": "lin_slope",
            "step": 10000,
            "_model_name": "FloatSliderModel",
            "orientation": "horizontal",
            "max": 100000,
            "_view_module": "@jupyter-widgets/controls",
            "_model_module_version": "1.5.0",
            "value": -330000,
            "_view_count": null,
            "disabled": false,
            "_view_module_version": "1.5.0",
            "min": -600000,
            "continuous_update": true,
            "readout_format": ".2f",
            "description_tooltip": null,
            "readout": true,
            "_model_module": "@jupyter-widgets/controls",
            "layout": "IPY_MODEL_1300518f7a524751ae63e2aaa9c01111"
          }
        },
        "47ead26e3a3e4152a1c8d46439de96f6": {
          "model_module": "@jupyter-widgets/controls",
          "model_name": "FloatSliderModel",
          "state": {
            "_view_name": "FloatSliderView",
            "style": "IPY_MODEL_9dda24b170214861a9d4f08c05b896f0",
            "_dom_classes": [],
            "description": "lin_y0",
            "step": 1000,
            "_model_name": "FloatSliderModel",
            "orientation": "horizontal",
            "max": 40000,
            "_view_module": "@jupyter-widgets/controls",
            "_model_module_version": "1.5.0",
            "value": 10000,
            "_view_count": null,
            "disabled": false,
            "_view_module_version": "1.5.0",
            "min": 0,
            "continuous_update": true,
            "readout_format": ".2f",
            "description_tooltip": null,
            "readout": true,
            "_model_module": "@jupyter-widgets/controls",
            "layout": "IPY_MODEL_960e0acdc8044fbb928ecf90247ef8bf"
          }
        },
        "a76f6404e2aa467f999073446372d226": {
          "model_module": "@jupyter-widgets/output",
          "model_name": "OutputModel",
          "state": {
            "_view_name": "OutputView",
            "msg_id": "",
            "_dom_classes": [],
            "_model_name": "OutputModel",
            "outputs": [
              {
                "output_type": "display_data",
                "metadata": {
                  "tags": [],
                  "image/png": {
                    "width": 558,
                    "height": 413
                  },
                  "needs_background": "light"
                },
                "image/png": "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\n",
                "text/plain": "<Figure size 576x432 with 1 Axes>"
              }
            ],
            "_view_module": "@jupyter-widgets/output",
            "_model_module_version": "1.0.0",
            "_view_count": null,
            "_view_module_version": "1.0.0",
            "layout": "IPY_MODEL_9d10dcc9829241da914200e8c0328791",
            "_model_module": "@jupyter-widgets/output"
          }
        },
        "32673ea0575f4349830a1d9e0c779e9e": {
          "model_module": "@jupyter-widgets/controls",
          "model_name": "SliderStyleModel",
          "state": {
            "_view_name": "StyleView",
            "handle_color": null,
            "_model_name": "SliderStyleModel",
            "description_width": "",
            "_view_module": "@jupyter-widgets/base",
            "_model_module_version": "1.5.0",
            "_view_count": null,
            "_view_module_version": "1.2.0",
            "_model_module": "@jupyter-widgets/controls"
          }
        },
        "effccd7593b743699b67a89bd7866e78": {
          "model_module": "@jupyter-widgets/base",
          "model_name": "LayoutModel",
          "state": {
            "_view_name": "LayoutView",
            "grid_template_rows": null,
            "right": null,
            "justify_content": null,
            "_view_module": "@jupyter-widgets/base",
            "overflow": null,
            "_model_module_version": "1.2.0",
            "_view_count": null,
            "flex_flow": null,
            "width": null,
            "min_width": null,
            "border": null,
            "align_items": null,
            "bottom": null,
            "_model_module": "@jupyter-widgets/base",
            "top": null,
            "grid_column": null,
            "overflow_y": null,
            "overflow_x": null,
            "grid_auto_flow": null,
            "grid_area": null,
            "grid_template_columns": null,
            "flex": null,
            "_model_name": "LayoutModel",
            "justify_items": null,
            "grid_row": null,
            "max_height": null,
            "align_content": null,
            "visibility": null,
            "align_self": null,
            "height": null,
            "min_height": null,
            "padding": null,
            "grid_auto_rows": null,
            "grid_gap": null,
            "max_width": null,
            "order": null,
            "_view_module_version": "1.2.0",
            "grid_template_areas": null,
            "object_position": null,
            "object_fit": null,
            "grid_auto_columns": null,
            "margin": null,
            "display": null,
            "left": null
          }
        },
        "c7b51802f6f246f2bad2397f73a02ca0": {
          "model_module": "@jupyter-widgets/controls",
          "model_name": "SliderStyleModel",
          "state": {
            "_view_name": "StyleView",
            "handle_color": null,
            "_model_name": "SliderStyleModel",
            "description_width": "",
            "_view_module": "@jupyter-widgets/base",
            "_model_module_version": "1.5.0",
            "_view_count": null,
            "_view_module_version": "1.2.0",
            "_model_module": "@jupyter-widgets/controls"
          }
        },
        "bd118bd948074b209dcc7edba6b4a2bc": {
          "model_module": "@jupyter-widgets/base",
          "model_name": "LayoutModel",
          "state": {
            "_view_name": "LayoutView",
            "grid_template_rows": null,
            "right": null,
            "justify_content": null,
            "_view_module": "@jupyter-widgets/base",
            "overflow": null,
            "_model_module_version": "1.2.0",
            "_view_count": null,
            "flex_flow": null,
            "width": null,
            "min_width": null,
            "border": null,
            "align_items": null,
            "bottom": null,
            "_model_module": "@jupyter-widgets/base",
            "top": null,
            "grid_column": null,
            "overflow_y": null,
            "overflow_x": null,
            "grid_auto_flow": null,
            "grid_area": null,
            "grid_template_columns": null,
            "flex": null,
            "_model_name": "LayoutModel",
            "justify_items": null,
            "grid_row": null,
            "max_height": null,
            "align_content": null,
            "visibility": null,
            "align_self": null,
            "height": null,
            "min_height": null,
            "padding": null,
            "grid_auto_rows": null,
            "grid_gap": null,
            "max_width": null,
            "order": null,
            "_view_module_version": "1.2.0",
            "grid_template_areas": null,
            "object_position": null,
            "object_fit": null,
            "grid_auto_columns": null,
            "margin": null,
            "display": null,
            "left": null
          }
        },
        "9f5fe508ec28411bb3147876e32e6e57": {
          "model_module": "@jupyter-widgets/controls",
          "model_name": "SliderStyleModel",
          "state": {
            "_view_name": "StyleView",
            "handle_color": null,
            "_model_name": "SliderStyleModel",
            "description_width": "",
            "_view_module": "@jupyter-widgets/base",
            "_model_module_version": "1.5.0",
            "_view_count": null,
            "_view_module_version": "1.2.0",
            "_model_module": "@jupyter-widgets/controls"
          }
        },
        "5db58809810f47edac3b3f92c9bcbb47": {
          "model_module": "@jupyter-widgets/base",
          "model_name": "LayoutModel",
          "state": {
            "_view_name": "LayoutView",
            "grid_template_rows": null,
            "right": null,
            "justify_content": null,
            "_view_module": "@jupyter-widgets/base",
            "overflow": null,
            "_model_module_version": "1.2.0",
            "_view_count": null,
            "flex_flow": null,
            "width": null,
            "min_width": null,
            "border": null,
            "align_items": null,
            "bottom": null,
            "_model_module": "@jupyter-widgets/base",
            "top": null,
            "grid_column": null,
            "overflow_y": null,
            "overflow_x": null,
            "grid_auto_flow": null,
            "grid_area": null,
            "grid_template_columns": null,
            "flex": null,
            "_model_name": "LayoutModel",
            "justify_items": null,
            "grid_row": null,
            "max_height": null,
            "align_content": null,
            "visibility": null,
            "align_self": null,
            "height": null,
            "min_height": null,
            "padding": null,
            "grid_auto_rows": null,
            "grid_gap": null,
            "max_width": null,
            "order": null,
            "_view_module_version": "1.2.0",
            "grid_template_areas": null,
            "object_position": null,
            "object_fit": null,
            "grid_auto_columns": null,
            "margin": null,
            "display": null,
            "left": null
          }
        },
        "4dbbd41da3234907a931f39ed00b42a4": {
          "model_module": "@jupyter-widgets/controls",
          "model_name": "SliderStyleModel",
          "state": {
            "_view_name": "StyleView",
            "handle_color": null,
            "_model_name": "SliderStyleModel",
            "description_width": "",
            "_view_module": "@jupyter-widgets/base",
            "_model_module_version": "1.5.0",
            "_view_count": null,
            "_view_module_version": "1.2.0",
            "_model_module": "@jupyter-widgets/controls"
          }
        },
        "a2c2d8e8fdd54b47ad9c109cdd5ef81c": {
          "model_module": "@jupyter-widgets/base",
          "model_name": "LayoutModel",
          "state": {
            "_view_name": "LayoutView",
            "grid_template_rows": null,
            "right": null,
            "justify_content": null,
            "_view_module": "@jupyter-widgets/base",
            "overflow": null,
            "_model_module_version": "1.2.0",
            "_view_count": null,
            "flex_flow": null,
            "width": null,
            "min_width": null,
            "border": null,
            "align_items": null,
            "bottom": null,
            "_model_module": "@jupyter-widgets/base",
            "top": null,
            "grid_column": null,
            "overflow_y": null,
            "overflow_x": null,
            "grid_auto_flow": null,
            "grid_area": null,
            "grid_template_columns": null,
            "flex": null,
            "_model_name": "LayoutModel",
            "justify_items": null,
            "grid_row": null,
            "max_height": null,
            "align_content": null,
            "visibility": null,
            "align_self": null,
            "height": null,
            "min_height": null,
            "padding": null,
            "grid_auto_rows": null,
            "grid_gap": null,
            "max_width": null,
            "order": null,
            "_view_module_version": "1.2.0",
            "grid_template_areas": null,
            "object_position": null,
            "object_fit": null,
            "grid_auto_columns": null,
            "margin": null,
            "display": null,
            "left": null
          }
        },
        "b929722c9fcd4c2a801ae6bd8cbb86b5": {
          "model_module": "@jupyter-widgets/controls",
          "model_name": "SliderStyleModel",
          "state": {
            "_view_name": "StyleView",
            "handle_color": null,
            "_model_name": "SliderStyleModel",
            "description_width": "",
            "_view_module": "@jupyter-widgets/base",
            "_model_module_version": "1.5.0",
            "_view_count": null,
            "_view_module_version": "1.2.0",
            "_model_module": "@jupyter-widgets/controls"
          }
        },
        "db1bfdac1db14c968053e73c49027c8f": {
          "model_module": "@jupyter-widgets/base",
          "model_name": "LayoutModel",
          "state": {
            "_view_name": "LayoutView",
            "grid_template_rows": null,
            "right": null,
            "justify_content": null,
            "_view_module": "@jupyter-widgets/base",
            "overflow": null,
            "_model_module_version": "1.2.0",
            "_view_count": null,
            "flex_flow": null,
            "width": null,
            "min_width": null,
            "border": null,
            "align_items": null,
            "bottom": null,
            "_model_module": "@jupyter-widgets/base",
            "top": null,
            "grid_column": null,
            "overflow_y": null,
            "overflow_x": null,
            "grid_auto_flow": null,
            "grid_area": null,
            "grid_template_columns": null,
            "flex": null,
            "_model_name": "LayoutModel",
            "justify_items": null,
            "grid_row": null,
            "max_height": null,
            "align_content": null,
            "visibility": null,
            "align_self": null,
            "height": null,
            "min_height": null,
            "padding": null,
            "grid_auto_rows": null,
            "grid_gap": null,
            "max_width": null,
            "order": null,
            "_view_module_version": "1.2.0",
            "grid_template_areas": null,
            "object_position": null,
            "object_fit": null,
            "grid_auto_columns": null,
            "margin": null,
            "display": null,
            "left": null
          }
        },
        "ea6ef8d0e666428686e5f2c01a274f07": {
          "model_module": "@jupyter-widgets/controls",
          "model_name": "SliderStyleModel",
          "state": {
            "_view_name": "StyleView",
            "handle_color": null,
            "_model_name": "SliderStyleModel",
            "description_width": "",
            "_view_module": "@jupyter-widgets/base",
            "_model_module_version": "1.5.0",
            "_view_count": null,
            "_view_module_version": "1.2.0",
            "_model_module": "@jupyter-widgets/controls"
          }
        },
        "1300518f7a524751ae63e2aaa9c01111": {
          "model_module": "@jupyter-widgets/base",
          "model_name": "LayoutModel",
          "state": {
            "_view_name": "LayoutView",
            "grid_template_rows": null,
            "right": null,
            "justify_content": null,
            "_view_module": "@jupyter-widgets/base",
            "overflow": null,
            "_model_module_version": "1.2.0",
            "_view_count": null,
            "flex_flow": null,
            "width": null,
            "min_width": null,
            "border": null,
            "align_items": null,
            "bottom": null,
            "_model_module": "@jupyter-widgets/base",
            "top": null,
            "grid_column": null,
            "overflow_y": null,
            "overflow_x": null,
            "grid_auto_flow": null,
            "grid_area": null,
            "grid_template_columns": null,
            "flex": null,
            "_model_name": "LayoutModel",
            "justify_items": null,
            "grid_row": null,
            "max_height": null,
            "align_content": null,
            "visibility": null,
            "align_self": null,
            "height": null,
            "min_height": null,
            "padding": null,
            "grid_auto_rows": null,
            "grid_gap": null,
            "max_width": null,
            "order": null,
            "_view_module_version": "1.2.0",
            "grid_template_areas": null,
            "object_position": null,
            "object_fit": null,
            "grid_auto_columns": null,
            "margin": null,
            "display": null,
            "left": null
          }
        },
        "9dda24b170214861a9d4f08c05b896f0": {
          "model_module": "@jupyter-widgets/controls",
          "model_name": "SliderStyleModel",
          "state": {
            "_view_name": "StyleView",
            "handle_color": null,
            "_model_name": "SliderStyleModel",
            "description_width": "",
            "_view_module": "@jupyter-widgets/base",
            "_model_module_version": "1.5.0",
            "_view_count": null,
            "_view_module_version": "1.2.0",
            "_model_module": "@jupyter-widgets/controls"
          }
        },
        "960e0acdc8044fbb928ecf90247ef8bf": {
          "model_module": "@jupyter-widgets/base",
          "model_name": "LayoutModel",
          "state": {
            "_view_name": "LayoutView",
            "grid_template_rows": null,
            "right": null,
            "justify_content": null,
            "_view_module": "@jupyter-widgets/base",
            "overflow": null,
            "_model_module_version": "1.2.0",
            "_view_count": null,
            "flex_flow": null,
            "width": null,
            "min_width": null,
            "border": null,
            "align_items": null,
            "bottom": null,
            "_model_module": "@jupyter-widgets/base",
            "top": null,
            "grid_column": null,
            "overflow_y": null,
            "overflow_x": null,
            "grid_auto_flow": null,
            "grid_area": null,
            "grid_template_columns": null,
            "flex": null,
            "_model_name": "LayoutModel",
            "justify_items": null,
            "grid_row": null,
            "max_height": null,
            "align_content": null,
            "visibility": null,
            "align_self": null,
            "height": null,
            "min_height": null,
            "padding": null,
            "grid_auto_rows": null,
            "grid_gap": null,
            "max_width": null,
            "order": null,
            "_view_module_version": "1.2.0",
            "grid_template_areas": null,
            "object_position": null,
            "object_fit": null,
            "grid_auto_columns": null,
            "margin": null,
            "display": null,
            "left": null
          }
        },
        "9d10dcc9829241da914200e8c0328791": {
          "model_module": "@jupyter-widgets/base",
          "model_name": "LayoutModel",
          "state": {
            "_view_name": "LayoutView",
            "grid_template_rows": null,
            "right": null,
            "justify_content": null,
            "_view_module": "@jupyter-widgets/base",
            "overflow": null,
            "_model_module_version": "1.2.0",
            "_view_count": null,
            "flex_flow": null,
            "width": null,
            "min_width": null,
            "border": null,
            "align_items": null,
            "bottom": null,
            "_model_module": "@jupyter-widgets/base",
            "top": null,
            "grid_column": null,
            "overflow_y": null,
            "overflow_x": null,
            "grid_auto_flow": null,
            "grid_area": null,
            "grid_template_columns": null,
            "flex": null,
            "_model_name": "LayoutModel",
            "justify_items": null,
            "grid_row": null,
            "max_height": null,
            "align_content": null,
            "visibility": null,
            "align_self": null,
            "height": null,
            "min_height": null,
            "padding": null,
            "grid_auto_rows": null,
            "grid_gap": null,
            "max_width": null,
            "order": null,
            "_view_module_version": "1.2.0",
            "grid_template_areas": null,
            "object_position": null,
            "object_fit": null,
            "grid_auto_columns": null,
            "margin": null,
            "display": null,
            "left": null
          }
        },
        "6f7ac7fda2c44b86bb5fc04dd88ef11d": {
          "model_module": "@jupyter-widgets/controls",
          "model_name": "TabModel",
          "state": {
            "_view_name": "TabView",
            "_dom_classes": [],
            "_titles": {
              "0": "Youtube",
              "1": "Bilibili"
            },
            "_model_name": "TabModel",
            "_view_module": "@jupyter-widgets/controls",
            "selected_index": 1,
            "_model_module_version": "1.5.0",
            "_view_count": null,
            "_view_module_version": "1.5.0",
            "box_style": "",
            "layout": "IPY_MODEL_88475f892f304a6da7116024cf0fc77b",
            "_model_module": "@jupyter-widgets/controls",
            "children": [
              "IPY_MODEL_6243285e64c14fcb8f556ad3b7a17b73",
              "IPY_MODEL_eb820746803e4d4388764d09a8d7e5a4"
            ]
          }
        },
        "88475f892f304a6da7116024cf0fc77b": {
          "model_module": "@jupyter-widgets/base",
          "model_name": "LayoutModel",
          "state": {
            "_view_name": "LayoutView",
            "grid_template_rows": null,
            "right": null,
            "justify_content": null,
            "_view_module": "@jupyter-widgets/base",
            "overflow": null,
            "_model_module_version": "1.2.0",
            "_view_count": null,
            "flex_flow": null,
            "width": null,
            "min_width": null,
            "border": null,
            "align_items": null,
            "bottom": null,
            "_model_module": "@jupyter-widgets/base",
            "top": null,
            "grid_column": null,
            "overflow_y": null,
            "overflow_x": null,
            "grid_auto_flow": null,
            "grid_area": null,
            "grid_template_columns": null,
            "flex": null,
            "_model_name": "LayoutModel",
            "justify_items": null,
            "grid_row": null,
            "max_height": null,
            "align_content": null,
            "visibility": null,
            "align_self": null,
            "height": null,
            "min_height": null,
            "padding": null,
            "grid_auto_rows": null,
            "grid_gap": null,
            "max_width": null,
            "order": null,
            "_view_module_version": "1.2.0",
            "grid_template_areas": null,
            "object_position": null,
            "object_fit": null,
            "grid_auto_columns": null,
            "margin": null,
            "display": null,
            "left": null
          }
        },
        "6243285e64c14fcb8f556ad3b7a17b73": {
          "model_module": "@jupyter-widgets/output",
          "model_name": "OutputModel",
          "state": {
            "_view_name": "OutputView",
            "msg_id": "",
            "_dom_classes": [],
            "_model_name": "OutputModel",
            "outputs": [
              {
                "output_type": "stream",
                "metadata": {
                  "tags": []
                },
                "text": "Video available at https://youtube.com/watch?v=uW2HDk_4-wk\n",
                "stream": "stdout"
              },
              {
                "output_type": "display_data",
                "metadata": {
                  "tags": []
                },
                "text/html": "\n        <iframe\n            width=\"854\"\n            height=\"480\"\n            src=\"https://www.youtube.com/embed/uW2HDk_4-wk?fs=1&rel=0\"\n            frameborder=\"0\"\n            allowfullscreen\n        ></iframe>\n        ",
                "text/plain": "<IPython.lib.display.YouTubeVideo at 0x7fc73ec791d0>",
                "image/jpeg": "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\n"
              }
            ],
            "_view_module": "@jupyter-widgets/output",
            "_model_module_version": "1.0.0",
            "_view_count": null,
            "_view_module_version": "1.0.0",
            "layout": "IPY_MODEL_5f21546f7f2240259c0622c2ab49607e",
            "_model_module": "@jupyter-widgets/output"
          }
        },
        "eb820746803e4d4388764d09a8d7e5a4": {
          "model_module": "@jupyter-widgets/output",
          "model_name": "OutputModel",
          "state": {
            "_view_name": "OutputView",
            "msg_id": "",
            "_dom_classes": [],
            "_model_name": "OutputModel",
            "outputs": [
              {
                "output_type": "stream",
                "metadata": {
                  "tags": []
                },
                "text": "Video available at https://www.bilibili.com/video/BV1w54y1S7Eb\n",
                "stream": "stdout"
              },
              {
                "output_type": "display_data",
                "metadata": {
                  "tags": []
                },
                "text/html": "\n        <iframe\n            width=\"854\"\n            height=\"480\"\n            src=\"https://player.bilibili.com/player.html?bvid=BV1w54y1S7Eb&page=1?fs=1\"\n            frameborder=\"0\"\n            allowfullscreen\n        ></iframe>\n        ",
                "text/plain": "<__main__.BiliVideo at 0x7fc73953fe50>"
              }
            ],
            "_view_module": "@jupyter-widgets/output",
            "_model_module_version": "1.0.0",
            "_view_count": null,
            "_view_module_version": "1.0.0",
            "layout": "IPY_MODEL_bc231956e19c4a799a1fc5a508f70bc9",
            "_model_module": "@jupyter-widgets/output"
          }
        },
        "5f21546f7f2240259c0622c2ab49607e": {
          "model_module": "@jupyter-widgets/base",
          "model_name": "LayoutModel",
          "state": {
            "_view_name": "LayoutView",
            "grid_template_rows": null,
            "right": null,
            "justify_content": null,
            "_view_module": "@jupyter-widgets/base",
            "overflow": null,
            "_model_module_version": "1.2.0",
            "_view_count": null,
            "flex_flow": null,
            "width": null,
            "min_width": null,
            "border": null,
            "align_items": null,
            "bottom": null,
            "_model_module": "@jupyter-widgets/base",
            "top": null,
            "grid_column": null,
            "overflow_y": null,
            "overflow_x": null,
            "grid_auto_flow": null,
            "grid_area": null,
            "grid_template_columns": null,
            "flex": null,
            "_model_name": "LayoutModel",
            "justify_items": null,
            "grid_row": null,
            "max_height": null,
            "align_content": null,
            "visibility": null,
            "align_self": null,
            "height": null,
            "min_height": null,
            "padding": null,
            "grid_auto_rows": null,
            "grid_gap": null,
            "max_width": null,
            "order": null,
            "_view_module_version": "1.2.0",
            "grid_template_areas": null,
            "object_position": null,
            "object_fit": null,
            "grid_auto_columns": null,
            "margin": null,
            "display": null,
            "left": null
          }
        },
        "bc231956e19c4a799a1fc5a508f70bc9": {
          "model_module": "@jupyter-widgets/base",
          "model_name": "LayoutModel",
          "state": {
            "_view_name": "LayoutView",
            "grid_template_rows": null,
            "right": null,
            "justify_content": null,
            "_view_module": "@jupyter-widgets/base",
            "overflow": null,
            "_model_module_version": "1.2.0",
            "_view_count": null,
            "flex_flow": null,
            "width": null,
            "min_width": null,
            "border": null,
            "align_items": null,
            "bottom": null,
            "_model_module": "@jupyter-widgets/base",
            "top": null,
            "grid_column": null,
            "overflow_y": null,
            "overflow_x": null,
            "grid_auto_flow": null,
            "grid_area": null,
            "grid_template_columns": null,
            "flex": null,
            "_model_name": "LayoutModel",
            "justify_items": null,
            "grid_row": null,
            "max_height": null,
            "align_content": null,
            "visibility": null,
            "align_self": null,
            "height": null,
            "min_height": null,
            "padding": null,
            "grid_auto_rows": null,
            "grid_gap": null,
            "max_width": null,
            "order": null,
            "_view_module_version": "1.2.0",
            "grid_template_areas": null,
            "object_position": null,
            "object_fit": null,
            "grid_auto_columns": null,
            "margin": null,
            "display": null,
            "left": null
          }
        }
      }
    }
  },
  "cells": [
    {
      "cell_type": "markdown",
      "metadata": {
        "id": "view-in-github",
        "colab_type": "text"
      },
      "source": [
        "<a href=\"https://colab.research.google.com/github/delores0217/NMA/blob/main/tutorials/W1D1_ModelTypes/student/WAHT_model.ipynb\" target=\"_parent\"><img src=\"https://colab.research.google.com/assets/colab-badge.svg\" alt=\"Open In Colab\"/></a>"
      ]
    },
    {
      "cell_type": "markdown",
      "metadata": {
        "id": "qJ4tUn5lQkBo"
      },
      "source": [
        "# Tutorial 1: \"What\" models\n",
        "**Week 1, Day 1: Model Types**\n",
        "\n",
        "**By Neuromatch Academy**\n",
        "\n",
        "__Content creators:__ Matt Laporte, Byron Galbraith, Konrad Kording\n",
        "\n",
        "__Content reviewers:__ Dalin Guo, Aishwarya Balwani, Madineh Sarvestani, Maryam Vaziri-Pashkam, Michael Waskom, Ella Batty\n",
        "\n",
        "We would like to acknowledge [Steinmetz _et al._ (2019)](https://www.nature.com/articles/s41586-019-1787-x) for sharing their data, a subset of which is used here.\n"
      ]
    },
    {
      "cell_type": "markdown",
      "metadata": {
        "id": "3C7LidSmQkB5"
      },
      "source": [
        "**Our 2021 Sponsors, including Presenting Sponsor Facebook Reality Labs**\n",
        "\n",
        "<p align='center'><img src='https://github.com/NeuromatchAcademy/widgets/blob/master/sponsors.png?raw=True'/></p>"
      ]
    },
    {
      "cell_type": "markdown",
      "metadata": {
        "id": "AhlOGIX9QkB8"
      },
      "source": [
        "___\n",
        "# Tutorial Objectives\n",
        "\n",
        "*Estimated timing of tutorial: 50 minutes*\n",
        "\n",
        "This is tutorial 1 of a 3-part series on different flavors of models used to understand neural data. In this tutorial we will explore 'What' models, used to describe the data. To understand what our data looks like, we will visualize it in different ways. Then we will compare it to simple mathematical models. Specifically, we will:\n",
        "\n",
        "- Load a dataset with spiking activity from hundreds of neurons and understand how it is organized\n",
        "- Make plots to visualize characteristics of the spiking activity across the population\n",
        "- Compute the distribution of \"inter-spike intervals\" (ISIs) for a single neuron\n",
        "- Consider several formal models of this distribution's shape and fit them to the data \"by hand\""
      ]
    },
    {
      "cell_type": "code",
      "metadata": {
        "cellView": "form",
        "execution": {
          "iopub.execute_input": "2021-07-03T17:54:16.068512Z",
          "iopub.status.busy": "2021-07-03T17:54:16.067851Z",
          "iopub.status.idle": "2021-07-03T17:54:16.078805Z",
          "shell.execute_reply": "2021-07-03T17:54:16.079308Z"
        },
        "id": "wtREnHGZQkCD"
      },
      "source": [
        "# @title Tutorial slides\n",
        "\n",
        "# @markdown These are the slides for the videos in all tutorials today\n",
        "from IPython.display import IFrame\n",
        "IFrame(src=f\"https://mfr.ca-1.osf.io/render?url=https://osf.io/6dxwe/?direct%26mode=render%26action=download%26mode=render\", width=854, height=480)"
      ],
      "execution_count": null,
      "outputs": []
    },
    {
      "cell_type": "code",
      "metadata": {
        "cellView": "form",
        "execution": {
          "iopub.execute_input": "2021-07-03T17:54:16.087459Z",
          "iopub.status.busy": "2021-07-03T17:54:16.086818Z",
          "iopub.status.idle": "2021-07-03T17:54:16.200795Z",
          "shell.execute_reply": "2021-07-03T17:54:16.198330Z"
        },
        "id": "p0fYyAhcQkCG"
      },
      "source": [
        "# @title Video 1: \"What\" Models\n",
        "from ipywidgets import widgets\n",
        "\n",
        "out2 = widgets.Output()\n",
        "with out2:\n",
        "  from IPython.display import IFrame\n",
        "  class BiliVideo(IFrame):\n",
        "      def __init__(self, id, page=1, width=400, height=300, **kwargs):\n",
        "          self.id=id\n",
        "          src = 'https://player.bilibili.com/player.html?bvid={0}&page={1}'.format(id, page)\n",
        "          super(BiliVideo, self).__init__(src, width, height, **kwargs)\n",
        "\n",
        "  video = BiliVideo(id=\"BV1mz4y1X7ot\", width=854, height=480, fs=1)\n",
        "  print('Video available at https://www.bilibili.com/video/{0}'.format(video.id))\n",
        "  display(video)\n",
        "\n",
        "out1 = widgets.Output()\n",
        "with out1:\n",
        "  from IPython.display import YouTubeVideo\n",
        "  video = YouTubeVideo(id=\"KgqR_jbjMQg\", width=854, height=480, fs=1, rel=0)\n",
        "  print('Video available at https://youtube.com/watch?v=' + video.id)\n",
        "  display(video)\n",
        "\n",
        "out = widgets.Tab([out1, out2])\n",
        "out.set_title(0, 'Youtube')\n",
        "out.set_title(1, 'Bilibili')\n",
        "\n",
        "display(out)"
      ],
      "execution_count": null,
      "outputs": []
    },
    {
      "cell_type": "markdown",
      "metadata": {
        "id": "APXx5hy7QkCJ"
      },
      "source": [
        "# Setup\n",
        "\n"
      ]
    },
    {
      "cell_type": "markdown",
      "metadata": {
        "id": "aoQzcZswQkCL"
      },
      "source": [
        "Python requires you to explictly \"import\" libraries before their functions are available to use. We will always specify our imports at the beginning of each notebook or script."
      ]
    },
    {
      "cell_type": "code",
      "metadata": {
        "execution": {
          "iopub.execute_input": "2021-07-03T17:54:16.207642Z",
          "iopub.status.busy": "2021-07-03T17:54:16.207031Z",
          "iopub.status.idle": "2021-07-03T17:54:18.019171Z",
          "shell.execute_reply": "2021-07-03T17:54:18.018238Z"
        },
        "pycharm": {
          "name": "#%%\n"
        },
        "id": "pvh_uVd5QkCO"
      },
      "source": [
        "import numpy as np\n",
        "import matplotlib.pyplot as plt"
      ],
      "execution_count": 21,
      "outputs": []
    },
    {
      "cell_type": "markdown",
      "metadata": {
        "id": "VOgBdC47QkCS"
      },
      "source": [
        "Tutorial notebooks typically begin with several set-up steps that are hidden from view by default.\n",
        "\n",
        "**Important:** Even though the code is hidden, you still need to run it so that the rest of the notebook can work properly. Step through each cell, either by pressing the play button in the upper-left-hand corner or with a keyboard shortcut (`Cmd-Return` on a Mac, `Ctrl-Enter` otherwise). A number will appear inside the brackets (e.g. `[3]`) to tell you that the cell was executed and what order that happened in.\n",
        "\n",
        "If you are curious to see what is going on inside each cell, you can double click to expand. Once expanded, double-click the white space to the right of the editor to collapse again."
      ]
    },
    {
      "cell_type": "code",
      "metadata": {
        "cellView": "form",
        "execution": {
          "iopub.execute_input": "2021-07-03T17:54:18.035304Z",
          "iopub.status.busy": "2021-07-03T17:54:18.031341Z",
          "iopub.status.idle": "2021-07-03T17:54:18.199819Z",
          "shell.execute_reply": "2021-07-03T17:54:18.200358Z"
        },
        "pycharm": {
          "name": "#%%\n"
        },
        "id": "SgIcUoVqQkCV"
      },
      "source": [
        "# @title Figure Settings\n",
        "import ipywidgets as widgets #interactive display\n",
        "\n",
        "%matplotlib inline\n",
        "%config InlineBackend.figure_format = 'retina'\n",
        "plt.style.use(\"https://raw.githubusercontent.com/NeuromatchAcademy/course-content/master/nma.mplstyle\")"
      ],
      "execution_count": 22,
      "outputs": []
    },
    {
      "cell_type": "code",
      "metadata": {
        "cellView": "form",
        "execution": {
          "iopub.execute_input": "2021-07-03T17:54:18.206360Z",
          "iopub.status.busy": "2021-07-03T17:54:18.202786Z",
          "iopub.status.idle": "2021-07-03T17:54:18.209079Z",
          "shell.execute_reply": "2021-07-03T17:54:18.209943Z"
        },
        "id": "h25Wxo5lQkCX"
      },
      "source": [
        "# @title Plotting functions\n",
        "\n",
        "def plot_isis(single_neuron_isis):\n",
        "  plt.hist(single_neuron_isis, bins=50, histtype=\"stepfilled\")\n",
        "  plt.axvline(single_neuron_isis.mean(), color=\"orange\", label=\"Mean ISI\")\n",
        "  plt.xlabel(\"ISI duration (s)\")\n",
        "  plt.ylabel(\"Number of spikes\")\n",
        "  plt.legend()"
      ],
      "execution_count": 23,
      "outputs": []
    },
    {
      "cell_type": "code",
      "metadata": {
        "cellView": "form",
        "execution": {
          "iopub.execute_input": "2021-07-03T17:54:18.216099Z",
          "iopub.status.busy": "2021-07-03T17:54:18.215112Z",
          "iopub.status.idle": "2021-07-03T17:54:20.671000Z",
          "shell.execute_reply": "2021-07-03T17:54:20.671442Z"
        },
        "pycharm": {
          "name": "#%%\n"
        },
        "id": "MQl6FqGrQkCZ"
      },
      "source": [
        "#@title Data retrieval\n",
        "#@markdown This cell downloads the example dataset that we will use in this tutorial.\n",
        "import io\n",
        "import requests\n",
        "r = requests.get('https://osf.io/sy5xt/download')\n",
        "if r.status_code != 200:\n",
        "  print('Failed to download data')\n",
        "else:\n",
        "  spike_times = np.load(io.BytesIO(r.content), allow_pickle=True)['spike_times']"
      ],
      "execution_count": 24,
      "outputs": []
    },
    {
      "cell_type": "markdown",
      "metadata": {
        "id": "qKfJnz6zQkCa"
      },
      "source": [
        "---\n",
        "\n",
        "# Section 1: Exploring the Steinmetz dataset\n",
        "\n",
        "In this tutorial we will explore the structure of a neuroscience dataset.\n",
        "\n",
        "We consider a subset of data from a study of [Steinmetz _et al._ (2019)](https://www.nature.com/articles/s41586-019-1787-x). In this study, Neuropixels probes were implanted in the brains of mice. Electrical potentials were measured by hundreds of electrodes along the length of each probe. Each electrode's measurements captured local variations in the electric field due to nearby spiking neurons. A spike sorting algorithm was used to infer spike times and cluster spikes according to common origin: a single cluster of sorted spikes is causally attributed to a single neuron.\n",
        "\n",
        "In particular, a single recording session of spike times and neuron assignments was loaded and assigned to `spike_times` in the preceding setup.\n",
        "\n",
        "Typically a dataset comes with some information about its structure. However, this information may be incomplete. You might also apply some transformations or \"pre-processing\" to create a working representation of the data of interest, which might go partly undocumented depending on the circumstances. In any case it is important to be able to use the available tools to investigate unfamiliar aspects of a data structure.\n",
        "\n",
        "Let's see what our data looks like..."
      ]
    },
    {
      "cell_type": "markdown",
      "metadata": {
        "id": "OjCUH5NIQkCj"
      },
      "source": [
        "## Section 1.1: Warming up with `spike_times`"
      ]
    },
    {
      "cell_type": "markdown",
      "metadata": {
        "id": "CihnQf3mQkCm"
      },
      "source": [
        "What is the Python type of our variable?"
      ]
    },
    {
      "cell_type": "code",
      "metadata": {
        "execution": {
          "iopub.execute_input": "2021-07-03T17:54:20.676871Z",
          "iopub.status.busy": "2021-07-03T17:54:20.676106Z",
          "iopub.status.idle": "2021-07-03T17:54:20.682191Z",
          "shell.execute_reply": "2021-07-03T17:54:20.681644Z"
        },
        "pycharm": {
          "name": "#%%\n"
        },
        "colab": {
          "base_uri": "https://localhost:8080/"
        },
        "id": "SBKHJjqVQkCo",
        "outputId": "0b3a92e7-935f-4897-f209-54666baaa05d"
      },
      "source": [
        "type(spike_times)"
      ],
      "execution_count": 26,
      "outputs": [
        {
          "output_type": "execute_result",
          "data": {
            "text/plain": [
              "numpy.ndarray"
            ]
          },
          "metadata": {
            "tags": []
          },
          "execution_count": 26
        }
      ]
    },
    {
      "cell_type": "markdown",
      "metadata": {
        "id": "PypI5D4nQkCp"
      },
      "source": [
        "You should see `numpy.ndarray`, which means that it's a normal NumPy array.\n",
        "\n",
        "If you see an error message, it probably means that you did not execute the set-up cells at the top of the notebook. So go ahead and make sure to do that.\n",
        "\n",
        "Once everything is running properly, we can ask the next question about the dataset: what's its shape?"
      ]
    },
    {
      "cell_type": "code",
      "metadata": {
        "execution": {
          "iopub.execute_input": "2021-07-03T17:54:20.686733Z",
          "iopub.status.busy": "2021-07-03T17:54:20.686101Z",
          "iopub.status.idle": "2021-07-03T17:54:20.691916Z",
          "shell.execute_reply": "2021-07-03T17:54:20.692367Z"
        },
        "pycharm": {
          "name": "#%%\n"
        },
        "colab": {
          "base_uri": "https://localhost:8080/"
        },
        "id": "inlvSq6wQkCz",
        "outputId": "caf7219b-dffc-4dc4-fc24-95596c132acd"
      },
      "source": [
        "spike_times.shape"
      ],
      "execution_count": 27,
      "outputs": [
        {
          "output_type": "execute_result",
          "data": {
            "text/plain": [
              "(734,)"
            ]
          },
          "metadata": {
            "tags": []
          },
          "execution_count": 27
        }
      ]
    },
    {
      "cell_type": "markdown",
      "metadata": {
        "id": "xqorXLtMQkC2"
      },
      "source": [
        "There are 734 entries in one dimension, and no other dimensions. What is the Python type of the first entry, and what is *its* shape?"
      ]
    },
    {
      "cell_type": "code",
      "metadata": {
        "execution": {
          "iopub.execute_input": "2021-07-03T17:54:20.697800Z",
          "iopub.status.busy": "2021-07-03T17:54:20.697199Z",
          "iopub.status.idle": "2021-07-03T17:54:20.701384Z",
          "shell.execute_reply": "2021-07-03T17:54:20.700890Z"
        },
        "pycharm": {
          "name": "#%%\n"
        },
        "colab": {
          "base_uri": "https://localhost:8080/"
        },
        "id": "1zogRJyTQkC3",
        "outputId": "552a5919-4839-4266-f0ef-1b394c06f70d"
      },
      "source": [
        "idx = 0\n",
        "print(\n",
        "  type(spike_times[idx]),\n",
        "  spike_times[idx].shape,\n",
        "  sep=\"\\n\",\n",
        ")"
      ],
      "execution_count": 28,
      "outputs": [
        {
          "output_type": "stream",
          "text": [
            "<class 'numpy.ndarray'>\n",
            "(826,)\n"
          ],
          "name": "stdout"
        }
      ]
    },
    {
      "cell_type": "markdown",
      "metadata": {
        "id": "8dLbpGWjQkC5"
      },
      "source": [
        "It's also a NumPy array with a 1D shape! Why didn't this show up as a second dimension in the shape of `spike_times`? That is, why not `spike_times.shape == (734, 826)`?\n",
        "\n",
        "To investigate, let's check another entry."
      ]
    },
    {
      "cell_type": "code",
      "metadata": {
        "execution": {
          "iopub.execute_input": "2021-07-03T17:54:20.710021Z",
          "iopub.status.busy": "2021-07-03T17:54:20.707287Z",
          "iopub.status.idle": "2021-07-03T17:54:20.712941Z",
          "shell.execute_reply": "2021-07-03T17:54:20.712371Z"
        },
        "pycharm": {
          "name": "#%%\n"
        },
        "colab": {
          "base_uri": "https://localhost:8080/"
        },
        "id": "wOJ1JEcRQkC7",
        "outputId": "d695d44c-b271-4c8d-aeb5-66e3483928b5"
      },
      "source": [
        "idx = 321\n",
        "print(\n",
        "  type(spike_times[idx]),\n",
        "  spike_times[idx].shape,\n",
        "  sep=\"\\n\",\n",
        ")"
      ],
      "execution_count": 29,
      "outputs": [
        {
          "output_type": "stream",
          "text": [
            "<class 'numpy.ndarray'>\n",
            "(9723,)\n"
          ],
          "name": "stdout"
        }
      ]
    },
    {
      "cell_type": "markdown",
      "metadata": {
        "id": "de9I3V_uQkC9"
      },
      "source": [
        "It's also a 1D NumPy array, but it has a different shape. Checking the NumPy types of the values in these arrays, and their first few elements, we see they are composed of floating point numbers (not another level of `np.ndarray`):"
      ]
    },
    {
      "cell_type": "code",
      "metadata": {
        "execution": {
          "iopub.execute_input": "2021-07-03T17:54:20.722331Z",
          "iopub.status.busy": "2021-07-03T17:54:20.720941Z",
          "iopub.status.idle": "2021-07-03T17:54:20.724840Z",
          "shell.execute_reply": "2021-07-03T17:54:20.724270Z"
        },
        "pycharm": {
          "name": "#%%\n"
        },
        "colab": {
          "base_uri": "https://localhost:8080/"
        },
        "id": "aIPbLlvDQkC-",
        "outputId": "b187a5e7-19e6-45a5-a11b-042d1a863972"
      },
      "source": [
        "i_neurons = [0, 321]\n",
        "i_print = slice(0, 5)\n",
        "\n",
        "for i in i_neurons:\n",
        "  print(\n",
        "    \"Neuron {}:\".format(i),\n",
        "    spike_times[i].dtype,\n",
        "    spike_times[i][i_print],\n",
        "    \"\\n\",\n",
        "    sep=\"\\n\"\n",
        "  )"
      ],
      "execution_count": 30,
      "outputs": [
        {
          "output_type": "stream",
          "text": [
            "Neuron 0:\n",
            "float32\n",
            "[ 0.8149   14.822467 24.9646   25.1436   38.8709  ]\n",
            "\n",
            "\n",
            "Neuron 321:\n",
            "float32\n",
            "[1.0698667 1.1536334 1.2403667 1.7072    1.799    ]\n",
            "\n",
            "\n"
          ],
          "name": "stdout"
        }
      ]
    },
    {
      "cell_type": "markdown",
      "metadata": {
        "id": "d4qXvJ9uQkDB"
      },
      "source": [
        "Note that this time we've checked the NumPy `dtype` rather than the Python variable type. These two arrays contain floating point numbers (\"floats\") with 32 bits of precision.\n",
        "\n",
        "The basic picture is coming together:\n",
        "- `spike_times` is 1D, its entries are NumPy arrays, and its length is the number of neurons (734): by indexing it, we select a subset of neurons.\n",
        "- An array in `spike_times` is also 1D and corresponds to a single neuron; its entries are floating point numbers, and its length is the number of spikes attributed to that neuron. By indexing it, we select a subset of spike times for that neuron.\n",
        "\n",
        "Visually, you can think of the data structure as looking something like this:\n",
        "\n",
        "```\n",
        "| . . . . . |\n",
        "| . . . . . . . . |\n",
        "| . . . |\n",
        "| . . . . . . . |\n",
        "```\n",
        "\n",
        "Before moving on, we'll calculate and store the number of neurons in the dataset and the number of spikes per neuron:"
      ]
    },
    {
      "cell_type": "code",
      "metadata": {
        "execution": {
          "iopub.execute_input": "2021-07-03T17:54:20.731464Z",
          "iopub.status.busy": "2021-07-03T17:54:20.730149Z",
          "iopub.status.idle": "2021-07-03T17:54:20.733629Z",
          "shell.execute_reply": "2021-07-03T17:54:20.733072Z"
        },
        "pycharm": {
          "name": "#%%\n"
        },
        "colab": {
          "base_uri": "https://localhost:8080/"
        },
        "id": "3fuanw6yQkDE",
        "outputId": "7949b2d9-a563-48dc-c6b5-2800130bec40"
      },
      "source": [
        "n_neurons = len(spike_times)\n",
        "total_spikes_per_neuron = [len(spike_times_i) for spike_times_i in spike_times]\n",
        "\n",
        "print(f\"Number of neurons: {n_neurons}\")\n",
        "print(f\"Number of spikes for first five neurons: {total_spikes_per_neuron[:5]}\")"
      ],
      "execution_count": 31,
      "outputs": [
        {
          "output_type": "stream",
          "text": [
            "Number of neurons: 734\n",
            "Number of spikes for first five neurons: [826, 2818, 3953, 646, 1115]\n"
          ],
          "name": "stdout"
        }
      ]
    },
    {
      "cell_type": "code",
      "metadata": {
        "cellView": "form",
        "execution": {
          "iopub.execute_input": "2021-07-03T17:54:20.748484Z",
          "iopub.status.busy": "2021-07-03T17:54:20.746673Z",
          "iopub.status.idle": "2021-07-03T17:54:20.806460Z",
          "shell.execute_reply": "2021-07-03T17:54:20.803939Z"
        },
        "id": "HEJNU3IxQkDF"
      },
      "source": [
        "# @title Video 2: Exploring the dataset\n",
        "from ipywidgets import widgets\n",
        "\n",
        "out2 = widgets.Output()\n",
        "with out2:\n",
        "  from IPython.display import IFrame\n",
        "  class BiliVideo(IFrame):\n",
        "      def __init__(self, id, page=1, width=400, height=300, **kwargs):\n",
        "          self.id=id\n",
        "          src = 'https://player.bilibili.com/player.html?bvid={0}&page={1}'.format(id, page)\n",
        "          super(BiliVideo, self).__init__(src, width, height, **kwargs)\n",
        "\n",
        "  video = BiliVideo(id=\"BV1Hp4y1S7Au\", width=854, height=480, fs=1)\n",
        "  print('Video available at https://www.bilibili.com/video/{0}'.format(video.id))\n",
        "  display(video)\n",
        "\n",
        "out1 = widgets.Output()\n",
        "with out1:\n",
        "  from IPython.display import YouTubeVideo\n",
        "  video = YouTubeVideo(id=\"oHwYWUI_o1U\", width=854, height=480, fs=1, rel=0)\n",
        "  print('Video available at https://youtube.com/watch?v=' + video.id)\n",
        "  display(video)\n",
        "\n",
        "out = widgets.Tab([out1, out2])\n",
        "out.set_title(0, 'Youtube')\n",
        "out.set_title(1, 'Bilibili')\n",
        "\n",
        "display(out)"
      ],
      "execution_count": null,
      "outputs": []
    },
    {
      "cell_type": "markdown",
      "metadata": {
        "id": "Qwfk8wpNQkDG"
      },
      "source": [
        "## Section 1.2: Getting warmer: counting and plotting total spike counts\n",
        "\n",
        "As we've seen, the number of spikes over the entire recording is variable between neurons. More generally, some neurons tend to spike more than others in a given period. Lets explore what the distribution of spiking looks like across all the neurons in the dataset."
      ]
    },
    {
      "cell_type": "markdown",
      "metadata": {
        "id": "NEo-BjGHQkDH"
      },
      "source": [
        "Are most neurons \"loud\" or \"quiet\", compared to the average? To see, we'll define bins of constant width in terms of total spikes and count the neurons that fall in each bin. This is known as a \"histogram\".\n",
        "\n",
        "You can plot a histogram with the matplotlib function `plt.hist`. If you just need to compute it, you can use the numpy function `np.histogram` instead."
      ]
    },
    {
      "cell_type": "code",
      "metadata": {
        "execution": {
          "iopub.execute_input": "2021-07-03T17:54:20.831106Z",
          "iopub.status.busy": "2021-07-03T17:54:20.830471Z",
          "iopub.status.idle": "2021-07-03T17:54:21.104468Z",
          "shell.execute_reply": "2021-07-03T17:54:21.103509Z"
        },
        "pycharm": {
          "name": "#%%\n"
        },
        "colab": {
          "base_uri": "https://localhost:8080/",
          "height": 431
        },
        "id": "j_08ECjSQkDJ",
        "outputId": "b899c330-6747-4be6-c2d1-759bec753f6b"
      },
      "source": [
        "plt.hist(total_spikes_per_neuron, bins=50, histtype=\"stepfilled\")\n",
        "plt.xlabel(\"Total spikes per neuron\")\n",
        "plt.ylabel(\"Number of neurons\");"
      ],
      "execution_count": 32,
      "outputs": [
        {
          "output_type": "display_data",
          "data": {
            "image/png": "[encoded data removed]",
            "text/plain": [
              "<Figure size 576x432 with 1 Axes>"
            ]
          },
          "metadata": {
            "tags": [],
            "image/png": {
              "width": 558,
              "height": 414
            },
            "needs_background": "light"
          }
        }
      ]
    },
    {
      "cell_type": "markdown",
      "metadata": {
        "id": "oUahVXHNQkDK"
      },
      "source": [
        "Let's see what percentage of neurons have a below-average spike count:"
      ]
    },
    {
      "cell_type": "code",
      "metadata": {
        "execution": {
          "iopub.execute_input": "2021-07-03T17:54:21.109765Z",
          "iopub.status.busy": "2021-07-03T17:54:21.109111Z",
          "iopub.status.idle": "2021-07-03T17:54:21.113872Z",
          "shell.execute_reply": "2021-07-03T17:54:21.113384Z"
        },
        "pycharm": {
          "name": "#%%\n"
        },
        "colab": {
          "base_uri": "https://localhost:8080/"
        },
        "id": "BV7ht_SYQkDL",
        "outputId": "6f1d7529-b33f-42ce-af6e-bc353a4a3ecf"
      },
      "source": [
        "mean_spike_count = np.mean(total_spikes_per_neuron)\n",
        "frac_below_mean = (total_spikes_per_neuron < mean_spike_count).mean()\n",
        "print(f\"{frac_below_mean:2.1%} of neurons are below the mean\")"
      ],
      "execution_count": 33,
      "outputs": [
        {
          "output_type": "stream",
          "text": [
            "68.0% of neurons are below the mean\n"
          ],
          "name": "stdout"
        }
      ]
    },
    {
      "cell_type": "markdown",
      "metadata": {
        "id": "VnURIF0kQkDM"
      },
      "source": [
        "We can also see this by adding the average spike count to the histogram plot:"
      ]
    },
    {
      "cell_type": "code",
      "metadata": {
        "execution": {
          "iopub.execute_input": "2021-07-03T17:54:21.143165Z",
          "iopub.status.busy": "2021-07-03T17:54:21.142193Z",
          "iopub.status.idle": "2021-07-03T17:54:21.408641Z",
          "shell.execute_reply": "2021-07-03T17:54:21.408096Z"
        },
        "pycharm": {
          "name": "#%%\n"
        },
        "colab": {
          "base_uri": "https://localhost:8080/",
          "height": 431
        },
        "id": "ehfTdDLBQkDN",
        "outputId": "49263225-c864-4a02-e463-1a73ba6491fa"
      },
      "source": [
        "plt.hist(total_spikes_per_neuron, bins=50, histtype=\"stepfilled\")\n",
        "plt.xlabel(\"Total spikes per neuron\")\n",
        "plt.ylabel(\"Number of neurons\")\n",
        "plt.axvline(mean_spike_count, color=\"orange\", label=\"Mean neuron\")\n",
        "plt.legend();"
      ],
      "execution_count": 34,
      "outputs": [
        {
          "output_type": "display_data",
          "data": {
            "image/png": "[encoded data removed]",
            "text/plain": [
              "<Figure size 576x432 with 1 Axes>"
            ]
          },
          "metadata": {
            "tags": [],
            "image/png": {
              "width": 558,
              "height": 414
            },
            "needs_background": "light"
          }
        }
      ]
    },
    {
      "cell_type": "markdown",
      "metadata": {
        "id": "GT4bY1lLQkDO"
      },
      "source": [
        "This shows that the majority of neurons are relatively \"quiet\" compared to the mean, while a small number of neurons are exceptionally \"loud\": they must have spiked more often to reach a large count.\n",
        "\n",
        "### Coding Exercise 1.2: Comparing mean and median neurons\n",
        "\n",
        "If the mean neuron is more active than 68% of the population, what does that imply about the relationship between the mean neuron and the median neuron?\n",
        "\n",
        "*Exercise objective:* Reproduce the plot above, but add the median neuron.\n"
      ]
    },
    {
      "cell_type": "code",
      "metadata": {
        "execution": {
          "iopub.execute_input": "2021-07-03T17:54:21.417212Z",
          "iopub.status.busy": "2021-07-03T17:54:21.416528Z",
          "iopub.status.idle": "2021-07-03T17:54:21.534528Z",
          "shell.execute_reply": "2021-07-03T17:54:21.532642Z"
        },
        "pycharm": {
          "name": "#%%\n"
        },
        "colab": {
          "base_uri": "https://localhost:8080/",
          "height": 447
        },
        "id": "p66QWPcDQkDP",
        "outputId": "c4682777-ecf7-4039-9616-8fc429ebdd06"
      },
      "source": [
        "#################################################################################\n",
        "## TODO for students:\n",
        "# Fill out function and remove\n",
        "#raise NotImplementedError(\"Student exercise: complete histogram plotting with median\")\n",
        "#################################################################################\n",
        "\n",
        "# Compute median spike count\n",
        "median_spike_count = np.median(total_spikes_per_neuron)  # Hint: Try the function np.median\n",
        "\n",
        "# Visualize median, mean, and histogram\n",
        "plt.hist(total_spikes_per_neuron, bins=50, histtype=\"stepfilled\")\n",
        "plt.axvline(median_spike_count, color=\"limegreen\", label=\"Median neuron\")\n",
        "plt.axvline(mean_spike_count, color=\"orange\", label=\"Mean neuron\")\n",
        "plt.xlabel(\"Total spikes per neuron\")\n",
        "plt.ylabel(\"Number of neurons\")\n",
        "plt.legend()"
      ],
      "execution_count": 38,
      "outputs": [
        {
          "output_type": "execute_result",
          "data": {
            "text/plain": [
              "<matplotlib.legend.Legend at 0x7fc73eec0c10>"
            ]
          },
          "metadata": {
            "tags": []
          },
          "execution_count": 38
        },
        {
          "output_type": "display_data",
          "data": {
            "image/png": "[encoded data removed]",
            "text/plain": [
              "<Figure size 576x432 with 1 Axes>"
            ]
          },
          "metadata": {
            "tags": [],
            "image/png": {
              "width": 558,
              "height": 414
            },
            "needs_background": "light"
          }
        }
      ]
    },
    {
      "cell_type": "markdown",
      "metadata": {
        "execution": {
          "iopub.execute_input": "2021-07-03T17:54:21.567423Z",
          "iopub.status.busy": "2021-07-03T17:54:21.566322Z",
          "iopub.status.idle": "2021-07-03T17:54:21.931828Z",
          "shell.execute_reply": "2021-07-03T17:54:21.932371Z"
        },
        "pycharm": {
          "name": "#%%\n"
        },
        "id": "IbahfgkxQkDR"
      },
      "source": [
        "[*Click for solution*](https://github.com/NeuromatchAcademy/course-content/tree/master//tutorials/W1D1_ModelTypes/solutions/W1D1_Tutorial1_Solution_9af91fe0.py)\n",
        "\n",
        "*Example output:*\n",
        "\n",
        "<img alt='Solution hint' align='left' width=1116.0 height=827.0 src=https://raw.githubusercontent.com/NeuromatchAcademy/course-content/master/tutorials/W1D1_ModelTypes/static/W1D1_Tutorial1_Solution_9af91fe0_0.png>\n",
        "\n"
      ]
    },
    {
      "cell_type": "markdown",
      "metadata": {
        "id": "0yzY2dQnQkDW"
      },
      "source": [
        "\n",
        "*Bonus:* The median is the 50th percentile. What about other percentiles? Can you show the interquartile range on the histogram?"
      ]
    },
    {
      "cell_type": "markdown",
      "metadata": {
        "id": "dq4amMvIQkDY"
      },
      "source": [
        "---\n",
        "\n",
        "# Section 2: Visualizing neuronal spiking activity\n",
        "\n",
        "*Estimated timing to here from start of tutorial: 15 min*"
      ]
    },
    {
      "cell_type": "markdown",
      "metadata": {
        "id": "nVL-LesOQkDa"
      },
      "source": [
        "## Section 2.1: Getting a subset of the data\n",
        "\n",
        "Now we'll visualize trains of spikes. Because the recordings are long, we will first define a short time interval and restrict the visualization to only the spikes in this interval. We defined a helper function, `restrict_spike_times`, to do this for you. If you call `help()` on the function, it will tell you a little bit about itself:"
      ]
    },
    {
      "cell_type": "code",
      "metadata": {
        "cellView": "form",
        "execution": {
          "iopub.execute_input": "2021-07-03T17:54:21.939391Z",
          "iopub.status.busy": "2021-07-03T17:54:21.938026Z",
          "iopub.status.idle": "2021-07-03T17:54:21.940041Z",
          "shell.execute_reply": "2021-07-03T17:54:21.940561Z"
        },
        "id": "YVfSXv5LQkDb"
      },
      "source": [
        "# @markdown Execute this cell for helper function `restrict_spike_times`\n",
        "def restrict_spike_times(spike_times, interval):\n",
        "  \"\"\"Given a spike_time dataset, restrict to spikes within given interval.\n",
        "\n",
        "  Args:\n",
        "    spike_times (sequence of np.ndarray): List or array of arrays,\n",
        "      each inner array has spike times for a single neuron.\n",
        "    interval (tuple): Min, max time values; keep min <= t < max.\n",
        "\n",
        "  Returns:\n",
        "    np.ndarray: like `spike_times`, but only within `interval`\n",
        "  \"\"\"\n",
        "  interval_spike_times = []\n",
        "  for spikes in spike_times:\n",
        "    interval_mask = (spikes >= interval[0]) & (spikes < interval[1])\n",
        "    interval_spike_times.append(spikes[interval_mask])\n",
        "  return np.array(interval_spike_times, object)"
      ],
      "execution_count": 41,
      "outputs": []
    },
    {
      "cell_type": "code",
      "metadata": {
        "execution": {
          "iopub.execute_input": "2021-07-03T17:54:21.946273Z",
          "iopub.status.busy": "2021-07-03T17:54:21.944852Z",
          "iopub.status.idle": "2021-07-03T17:54:21.948195Z",
          "shell.execute_reply": "2021-07-03T17:54:21.947642Z"
        },
        "pycharm": {
          "name": "#%%\n"
        },
        "colab": {
          "base_uri": "https://localhost:8080/"
        },
        "id": "8CC4RPaLQkDc",
        "outputId": "0d846657-9fde-4c2b-832c-9ff113653f26"
      },
      "source": [
        "help(restrict_spike_times)"
      ],
      "execution_count": 42,
      "outputs": [
        {
          "output_type": "stream",
          "text": [
            "Help on function restrict_spike_times in module __main__:\n",
            "\n",
            "restrict_spike_times(spike_times, interval)\n",
            "    Given a spike_time dataset, restrict to spikes within given interval.\n",
            "    \n",
            "    Args:\n",
            "      spike_times (sequence of np.ndarray): List or array of arrays,\n",
            "        each inner array has spike times for a single neuron.\n",
            "      interval (tuple): Min, max time values; keep min <= t < max.\n",
            "    \n",
            "    Returns:\n",
            "      np.ndarray: like `spike_times`, but only within `interval`\n",
            "\n"
          ],
          "name": "stdout"
        }
      ]
    },
    {
      "cell_type": "code",
      "metadata": {
        "execution": {
          "iopub.execute_input": "2021-07-03T17:54:21.952491Z",
          "iopub.status.busy": "2021-07-03T17:54:21.951885Z",
          "iopub.status.idle": "2021-07-03T17:54:21.967180Z",
          "shell.execute_reply": "2021-07-03T17:54:21.966623Z"
        },
        "pycharm": {
          "name": "#%%\n"
        },
        "id": "PcLy8MLmQkDc"
      },
      "source": [
        "t_interval = (5, 15)  # units are seconds after start of recording\n",
        "interval_spike_times = restrict_spike_times(spike_times, t_interval)"
      ],
      "execution_count": 44,
      "outputs": []
    },
    {
      "cell_type": "markdown",
      "metadata": {
        "id": "z50NCz0hQkDd"
      },
      "source": [
        "Is this a representative interval? What fraction of the total spikes fall in this interval?"
      ]
    },
    {
      "cell_type": "code",
      "metadata": {
        "execution": {
          "iopub.execute_input": "2021-07-03T17:54:21.973917Z",
          "iopub.status.busy": "2021-07-03T17:54:21.972504Z",
          "iopub.status.idle": "2021-07-03T17:54:21.976061Z",
          "shell.execute_reply": "2021-07-03T17:54:21.975519Z"
        },
        "pycharm": {
          "name": "#%%\n"
        },
        "colab": {
          "base_uri": "https://localhost:8080/"
        },
        "id": "5GFBbHyxQkDd",
        "outputId": "d8aecab5-e493-4755-d0fb-c8ae144b6ac4"
      },
      "source": [
        "original_counts = sum([len(spikes) for spikes in spike_times])\n",
        "interval_counts = sum([len(spikes) for spikes in interval_spike_times])\n",
        "frac_interval_spikes = interval_counts / original_counts\n",
        "print(f\"{frac_interval_spikes:.2%} of the total spikes are in the interval\")"
      ],
      "execution_count": 45,
      "outputs": [
        {
          "output_type": "stream",
          "text": [
            "0.33% of the total spikes are in the interval\n"
          ],
          "name": "stdout"
        }
      ]
    },
    {
      "cell_type": "markdown",
      "metadata": {
        "id": "Rh1bNCCWQkDe"
      },
      "source": [
        "How does this compare to the ratio between the interval duration and the experiment duration? (What fraction of the total time is in this interval?)\n",
        "\n",
        "We can approximate the experiment duration by taking the minimum and maximum spike time in the whole dataset. To do that, we \"concatenate\" all of the neurons into one array and then use `np.ptp` (\"peak-to-peak\") to get the difference between the maximum and minimum value:"
      ]
    },
    {
      "cell_type": "code",
      "metadata": {
        "execution": {
          "iopub.execute_input": "2021-07-03T17:54:21.980602Z",
          "iopub.status.busy": "2021-07-03T17:54:21.980011Z",
          "iopub.status.idle": "2021-07-03T17:54:21.999935Z",
          "shell.execute_reply": "2021-07-03T17:54:22.000568Z"
        },
        "pycharm": {
          "name": "#%%\n"
        },
        "colab": {
          "base_uri": "https://localhost:8080/"
        },
        "id": "L_92SsD8QkDe",
        "outputId": "415bf506-30e0-42c3-cfac-69b08f16f9d0"
      },
      "source": [
        "spike_times_flat = np.concatenate(spike_times)\n",
        "experiment_duration = np.ptp(spike_times_flat)\n",
        "interval_duration = t_interval[1] - t_interval[0]\n",
        "\n",
        "frac_interval_time = interval_duration / experiment_duration\n",
        "print(f\"{frac_interval_time:.2%} of the total time is in the interval\")"
      ],
      "execution_count": 46,
      "outputs": [
        {
          "output_type": "stream",
          "text": [
            "0.37% of the total time is in the interval\n"
          ],
          "name": "stdout"
        }
      ]
    },
    {
      "cell_type": "markdown",
      "metadata": {
        "id": "FVdSByXDQkDg"
      },
      "source": [
        "These two values—the fraction of total spikes and the fraction of total time—are similar. This suggests the average spike rate of the neuronal population is not very different in this interval compared to the entire recording.\n",
        "\n",
        "## Section 2.2: Plotting spike trains and rasters\n",
        "\n",
        "Now that we have a representative subset, we're ready to plot the spikes, using the matplotlib `plt.eventplot` function. Let's look at a single neuron first:"
      ]
    },
    {
      "cell_type": "code",
      "metadata": {
        "execution": {
          "iopub.execute_input": "2021-07-03T17:54:22.019853Z",
          "iopub.status.busy": "2021-07-03T17:54:22.019192Z",
          "iopub.status.idle": "2021-07-03T17:54:22.196514Z",
          "shell.execute_reply": "2021-07-03T17:54:22.195642Z"
        },
        "pycharm": {
          "name": "#%%\n"
        },
        "colab": {
          "base_uri": "https://localhost:8080/",
          "height": 431
        },
        "id": "f6LW44-UQkDi",
        "outputId": "93d86af3-3f81-4019-ed33-e6fe90fde67b"
      },
      "source": [
        "neuron_idx = 1\n",
        "plt.eventplot(interval_spike_times[neuron_idx], color=\".2\")\n",
        "plt.xlabel(\"Time (s)\")\n",
        "plt.yticks([]);"
      ],
      "execution_count": 47,
      "outputs": [
        {
          "output_type": "display_data",
          "data": {
            "image/png": "[encoded data removed]",
            "text/plain": [
              "<Figure size 576x432 with 1 Axes>"
            ]
          },
          "metadata": {
            "tags": [],
            "image/png": {
              "width": 557,
              "height": 414
            },
            "needs_background": "light"
          }
        }
      ]
    },
    {
      "cell_type": "markdown",
      "metadata": {
        "id": "pRwCO6fbQkDk"
      },
      "source": [
        "We can also plot multiple neurons. Here are three:"
      ]
    },
    {
      "cell_type": "code",
      "metadata": {
        "execution": {
          "iopub.execute_input": "2021-07-03T17:54:22.270761Z",
          "iopub.status.busy": "2021-07-03T17:54:22.270162Z",
          "iopub.status.idle": "2021-07-03T17:54:22.424884Z",
          "shell.execute_reply": "2021-07-03T17:54:22.423869Z"
        },
        "pycharm": {
          "name": "#%%\n"
        },
        "colab": {
          "base_uri": "https://localhost:8080/",
          "height": 430
        },
        "id": "UZlZdbfVQkDk",
        "outputId": "b47d3d17-50c5-48ca-84a2-96ce74380315"
      },
      "source": [
        "neuron_idx = [1, 11, 51]\n",
        "plt.eventplot(interval_spike_times[neuron_idx], color=\".2\")\n",
        "plt.xlabel(\"Time (s)\")\n",
        "plt.yticks([]);"
      ],
      "execution_count": 48,
      "outputs": [
        {
          "output_type": "display_data",
          "data": {
            "image/png": "[encoded data removed]",
            "text/plain": [
              "<Figure size 576x432 with 1 Axes>"
            ]
          },
          "metadata": {
            "tags": [],
            "image/png": {
              "width": 557,
              "height": 413
            },
            "needs_background": "light"
          }
        }
      ]
    },
    {
      "cell_type": "markdown",
      "metadata": {
        "id": "yhU-tGngQkDl"
      },
      "source": [
        "This makes a \"raster\" plot, where the spikes from each neuron appear in a different row.\n",
        "\n",
        "Plotting a large number of neurons can give you a sense for the characteristics in the population. Let's show every 5th neuron that was recorded:"
      ]
    },
    {
      "cell_type": "code",
      "metadata": {
        "execution": {
          "iopub.execute_input": "2021-07-03T17:54:22.439900Z",
          "iopub.status.busy": "2021-07-03T17:54:22.438828Z",
          "iopub.status.idle": "2021-07-03T17:54:22.879608Z",
          "shell.execute_reply": "2021-07-03T17:54:22.878363Z"
        },
        "pycharm": {
          "name": "#%%\n"
        },
        "id": "_q2PkB4UQkDm"
      },
      "source": [
        "neuron_idx = np.arange(0, len(spike_times), 5)\n",
        "plt.eventplot(interval_spike_times[neuron_idx], color=\".2\")\n",
        "plt.xlabel(\"Time (s)\")\n",
        "plt.yticks([]);"
      ],
      "execution_count": null,
      "outputs": []
    },
    {
      "cell_type": "markdown",
      "metadata": {
        "id": "D-t7cvGhQkDm"
      },
      "source": [
        "*Question*: How does the information in this plot relate to the histogram of total spike counts that you saw above?"
      ]
    },
    {
      "cell_type": "markdown",
      "metadata": {
        "execution": {
          "iopub.execute_input": "2021-07-03T17:54:22.884637Z",
          "iopub.status.busy": "2021-07-03T17:54:22.883994Z",
          "iopub.status.idle": "2021-07-03T17:54:22.889216Z",
          "shell.execute_reply": "2021-07-03T17:54:22.890231Z"
        },
        "id": "5iBv6_LKQkDn"
      },
      "source": [
        "[*Click for solution*](https://github.com/NeuromatchAcademy/course-content/tree/master//tutorials/W1D1_ModelTypes/solutions/W1D1_Tutorial1_Solution_b01195c9.py)\n",
        "\n"
      ]
    },
    {
      "cell_type": "code",
      "metadata": {
        "cellView": "form",
        "execution": {
          "iopub.execute_input": "2021-07-03T17:54:22.903300Z",
          "iopub.status.busy": "2021-07-03T17:54:22.902309Z",
          "iopub.status.idle": "2021-07-03T17:54:22.968449Z",
          "shell.execute_reply": "2021-07-03T17:54:22.967927Z"
        },
        "colab": {
          "base_uri": "https://localhost:8080/",
          "height": 579,
          "referenced_widgets": [
            "5ddfc0ddf35e42a5858801f2ed25f787",
            "1163cdb642804721ac69ae1f55be249a",
            "f6e5e4d0b70e4d518537c04923de1612",
            "89c1722e0a8a4482b00cae5e9e17f862",
            "acef9e650b804a2f84017fbce1800efc",
            "ef7bac5bd12b4d2ab6c4db5d0558bcd4"
          ]
        },
        "id": "bG-y7eaSQkDn",
        "outputId": "7b077af8-0349-494e-c597-a76870282575"
      },
      "source": [
        "# @title Video 3: Visualizing activity\n",
        "from ipywidgets import widgets\n",
        "\n",
        "out2 = widgets.Output()\n",
        "with out2:\n",
        "  from IPython.display import IFrame\n",
        "  class BiliVideo(IFrame):\n",
        "      def __init__(self, id, page=1, width=400, height=300, **kwargs):\n",
        "          self.id=id\n",
        "          src = 'https://player.bilibili.com/player.html?bvid={0}&page={1}'.format(id, page)\n",
        "          super(BiliVideo, self).__init__(src, width, height, **kwargs)\n",
        "\n",
        "  video = BiliVideo(id=\"BV1dt4y1Q7C5\", width=854, height=480, fs=1)\n",
        "  print('Video available at https://www.bilibili.com/video/{0}'.format(video.id))\n",
        "  display(video)\n",
        "\n",
        "out1 = widgets.Output()\n",
        "with out1:\n",
        "  from IPython.display import YouTubeVideo\n",
        "  video = YouTubeVideo(id=\"QGA5FCW7kkA\", width=854, height=480, fs=1, rel=0)\n",
        "  print('Video available at https://youtube.com/watch?v=' + video.id)\n",
        "  display(video)\n",
        "\n",
        "out = widgets.Tab([out1, out2])\n",
        "out.set_title(0, 'Youtube')\n",
        "out.set_title(1, 'Bilibili')\n",
        "\n",
        "display(out)"
      ],
      "execution_count": 49,
      "outputs": [
        {
          "output_type": "display_data",
          "data": {
            "application/vnd.jupyter.widget-view+json": {
              "model_id": "5ddfc0ddf35e42a5858801f2ed25f787",
              "version_minor": 0,
              "version_major": 2
            },
            "text/plain": [
              "Tab(children=(Output(), Output()), _titles={'0': 'Youtube', '1': 'Bilibili'})"
            ]
          },
          "metadata": {
            "tags": []
          }
        }
      ]
    },
    {
      "cell_type": "markdown",
      "metadata": {
        "id": "Wa3zg4ScQkDo"
      },
      "source": [
        "---\n",
        "\n",
        "# Section 3: Inter-spike intervals and their distributions\n",
        "\n",
        "*Estimated timing to here from start of tutorial: 25 min*"
      ]
    },
    {
      "cell_type": "markdown",
      "metadata": {
        "id": "b_qFmKMhQkDp"
      },
      "source": [
        "Given the ordered arrays of spike times for each neuron in `spike_times`, which we've just visualized, what can we ask next?\n",
        "\n",
        "Scientific questions are informed by existing models. So, what knowledge do we already have that can inform questions about this data?\n",
        "\n",
        "We know that there are physical constraints on neuron spiking. Spiking costs energy, which the neuron's cellular machinery can only obtain at a finite rate. Therefore neurons should have a refractory period: they can only fire as quickly as their metabolic processes can support, and there is a minimum delay between consecutive spikes of the same neuron.\n",
        "\n",
        "More generally, we can ask \"how long does a neuron wait to spike again?\" or \"what is the longest a neuron will wait?\" Can we transform spike times into something else, to address questions like these more directly?\n",
        "\n",
        "We can consider the inter-spike times (or interspike intervals: ISIs). These are simply the time differences between consecutive spikes of the same neuron.\n",
        "\n",
        "### Exercise 3: Plot the distribution of ISIs for a single neuron\n",
        "\n",
        "*Exercise objective:* make a histogram, like we did for spike counts, to show the distribution of ISIs for one of the neurons in the dataset.\n",
        "\n",
        "Do this in three steps:\n",
        "\n",
        "1. Extract the spike times for one of the neurons\n",
        "2. Compute the ISIs (the amount of time between spikes, or equivalently, the difference between adjacent spike times)\n",
        "3. Plot a histogram with the array of individual ISIs"
      ]
    },
    {
      "cell_type": "code",
      "metadata": {
        "execution": {
          "iopub.execute_input": "2021-07-03T17:54:22.982203Z",
          "iopub.status.busy": "2021-07-03T17:54:22.981593Z",
          "iopub.status.idle": "2021-07-03T17:54:22.989786Z",
          "shell.execute_reply": "2021-07-03T17:54:22.989137Z"
        },
        "pycharm": {
          "name": "#%%\n"
        },
        "colab": {
          "base_uri": "https://localhost:8080/",
          "height": 430
        },
        "id": "QyJ8eWmaQkDp",
        "outputId": "ba814bcd-eb19-474d-a1ab-5d0fcdb3e41c"
      },
      "source": [
        "def compute_single_neuron_isis(spike_times, neuron_idx):\n",
        "  \"\"\"Compute a vector of ISIs for a single neuron given spike times.\n",
        "\n",
        "  Args:\n",
        "    spike_times (list of 1D arrays): Spike time dataset, with the first\n",
        "      dimension corresponding to different neurons.\n",
        "    neuron_idx (int): Index of the unit to compute ISIs for.\n",
        "\n",
        "  Returns:\n",
        "    isis (1D array): Duration of time between each spike from one neuron.\n",
        "  \"\"\"\n",
        "  #############################################################################\n",
        "  # Students: Fill in missing code (...) and comment or remove the next line\n",
        "  # raise NotImplementedError(\"Exercise: compute single neuron ISIs\")\n",
        "  #############################################################################\n",
        "\n",
        "  # Extract the spike times for the specified neuron\n",
        "  single_neuron_spikes = spike_times[neuron_idx]\n",
        "\n",
        "  # Compute the ISIs for this set of spikes\n",
        "  # Hint: the function np.diff computes discrete differences along an array\n",
        "  isis = np.diff(single_neuron_spikes)\n",
        "  return isis\n",
        "\n",
        "# Compute ISIs\n",
        "single_neuron_isis = compute_single_neuron_isis(spike_times, neuron_idx=283)\n",
        "\n",
        "# Visualize ISIs\n",
        "plot_isis(single_neuron_isis)"
      ],
      "execution_count": 56,
      "outputs": [
        {
          "output_type": "display_data",
          "data": {
            "image/png": "[encoded data removed]",
            "text/plain": [
              "<Figure size 576x432 with 1 Axes>"
            ]
          },
          "metadata": {
            "tags": [],
            "image/png": {
              "width": 558,
              "height": 413
            },
            "needs_background": "light"
          }
        }
      ]
    },
    {
      "cell_type": "markdown",
      "metadata": {
        "execution": {
          "iopub.execute_input": "2021-07-03T17:54:22.998186Z",
          "iopub.status.busy": "2021-07-03T17:54:22.997577Z",
          "iopub.status.idle": "2021-07-03T17:54:23.356486Z",
          "shell.execute_reply": "2021-07-03T17:54:23.355980Z"
        },
        "pycharm": {
          "name": "#%%\n"
        },
        "id": "HkNJFuv1QkDq"
      },
      "source": [
        "[*Click for solution*](https://github.com/NeuromatchAcademy/course-content/tree/master//tutorials/W1D1_ModelTypes/solutions/W1D1_Tutorial1_Solution_2972c168.py)\n",
        "\n",
        "*Example output:*\n",
        "\n",
        "<img alt='Solution hint' align='left' width=1116.0 height=828.0 src=https://raw.githubusercontent.com/NeuromatchAcademy/course-content/master/tutorials/W1D1_ModelTypes/static/W1D1_Tutorial1_Solution_2972c168_0.png>\n",
        "\n"
      ]
    },
    {
      "cell_type": "markdown",
      "metadata": {
        "id": "LW3dx5k4QkDq"
      },
      "source": [
        "---\n",
        "\n",
        "In general, the shorter ISIs are predominant, with counts decreasing rapidly (and smoothly, more or less) with increasing ISI. However, counts also rapidly decrease to zero with _decreasing_ ISI below the maximum of the distribution (8-11 ms). The absence of these very low ISIs agrees with the refractory period hypothesis: the neuron cannot fire quickly enough to populate this region of the ISI distribution.\n",
        "\n",
        "Check the distributions of some other neurons. To resolve various features of the distributions, you might need to play with the value of `n_bins`. Using too few bins might smooth over interesting details, but if you use too many bins, the random variability will start to dominate.\n",
        "\n",
        "You might also want to restrict the range to see the shape of the distribution when focusing on relatively short or long ISIs. *Hint:* `plt.hist` takes a `range` argument"
      ]
    },
    {
      "cell_type": "markdown",
      "metadata": {
        "id": "ETKoZ2x9QkDr"
      },
      "source": [
        "---\n",
        "\n",
        "# Section 4: What is the functional form of an ISI distribution?\n",
        "\n",
        "*Estimated timing to here from start of tutorial: 35 min*"
      ]
    },
    {
      "cell_type": "code",
      "metadata": {
        "cellView": "form",
        "execution": {
          "iopub.execute_input": "2021-07-03T17:54:23.369679Z",
          "iopub.status.busy": "2021-07-03T17:54:23.369060Z",
          "iopub.status.idle": "2021-07-03T17:54:23.429414Z",
          "shell.execute_reply": "2021-07-03T17:54:23.428823Z"
        },
        "id": "_d3M8vryQkDr"
      },
      "source": [
        "# @title Video 4: ISI distribution\n",
        "from ipywidgets import widgets\n",
        "\n",
        "out2 = widgets.Output()\n",
        "with out2:\n",
        "  from IPython.display import IFrame\n",
        "  class BiliVideo(IFrame):\n",
        "      def __init__(self, id, page=1, width=400, height=300, **kwargs):\n",
        "          self.id=id\n",
        "          src = 'https://player.bilibili.com/player.html?bvid={0}&page={1}'.format(id, page)\n",
        "          super(BiliVideo, self).__init__(src, width, height, **kwargs)\n",
        "\n",
        "  video = BiliVideo(id=\"BV1ov411B7Pm\", width=854, height=480, fs=1)\n",
        "  print('Video available at https://www.bilibili.com/video/{0}'.format(video.id))\n",
        "  display(video)\n",
        "\n",
        "out1 = widgets.Output()\n",
        "with out1:\n",
        "  from IPython.display import YouTubeVideo\n",
        "  video = YouTubeVideo(id=\"DHhM80MOTe8\", width=854, height=480, fs=1, rel=0)\n",
        "  print('Video available at https://youtube.com/watch?v=' + video.id)\n",
        "  display(video)\n",
        "\n",
        "out = widgets.Tab([out1, out2])\n",
        "out.set_title(0, 'Youtube')\n",
        "out.set_title(1, 'Bilibili')\n",
        "\n",
        "display(out)"
      ],
      "execution_count": null,
      "outputs": []
    },
    {
      "cell_type": "markdown",
      "metadata": {
        "id": "DKT1MU1AQkDr"
      },
      "source": [
        "The ISI histograms seem to follow continuous, monotonically decreasing functions above their maxima. The function is clearly non-linear. Could it belong to a single family of functions?\n",
        "\n",
        "To motivate the idea of using a mathematical function to explain physiological phenomena, let's define a few different function forms that we might expect the relationship to follow: exponential, inverse, and linear."
      ]
    },
    {
      "cell_type": "code",
      "metadata": {
        "execution": {
          "iopub.execute_input": "2021-07-03T17:54:23.445271Z",
          "iopub.status.busy": "2021-07-03T17:54:23.443840Z",
          "iopub.status.idle": "2021-07-03T17:54:23.446205Z",
          "shell.execute_reply": "2021-07-03T17:54:23.446819Z"
        },
        "pycharm": {
          "name": "#%%\n"
        },
        "id": "xQ4do9A9QkDs"
      },
      "source": [
        "def exponential(xs, scale, rate, x0):\n",
        "  \"\"\"A simple parametrized exponential function, applied element-wise.\n",
        "\n",
        "  Args:\n",
        "    xs (np.ndarray or float): Input(s) to the function.\n",
        "    scale (float): Linear scaling factor.\n",
        "    rate (float): Exponential growth (positive) or decay (negative) rate.\n",
        "    x0 (float): Horizontal offset.\n",
        "\n",
        "  \"\"\"\n",
        "  ys = scale * np.exp(rate * (xs - x0))\n",
        "  return ys\n",
        "\n",
        "def inverse(xs, scale, x0):\n",
        "  \"\"\"A simple parametrized inverse function (`1/x`), applied element-wise.\n",
        "\n",
        "  Args:\n",
        "    xs (np.ndarray or float): Input(s) to the function.\n",
        "    scale (float): Linear scaling factor.\n",
        "    x0 (float): Horizontal offset.\n",
        "\n",
        "  \"\"\"\n",
        "  ys = scale / (xs - x0)\n",
        "  return ys\n",
        "\n",
        "def linear(xs, slope, y0):\n",
        "  \"\"\"A simple linear function, applied element-wise.\n",
        "\n",
        "  Args:\n",
        "    xs (np.ndarray or float): Input(s) to the function.\n",
        "    slope (float): Slope of the line.\n",
        "    y0 (float): y-intercept of the line.\n",
        "\n",
        "  \"\"\"\n",
        "  ys = slope * xs + y0\n",
        "  return ys"
      ],
      "execution_count": null,
      "outputs": []
    },
    {
      "cell_type": "markdown",
      "metadata": {
        "id": "I8-z1xlZQkDs"
      },
      "source": [
        "### Interactive Demo 4: ISI functions explorer\n",
        "\n",
        "Here is an interactive demo where you can vary the parameters of these functions and see how well the resulting outputs correspond to the data. Adjust the parameters by moving the sliders and see how close you can get the lines to follow the falling curve of the histogram. This will give you a taste of what you're trying to do when you *fit a model* to data.\n",
        "\n",
        "\"Interactive demo\" cells have hidden code that defines an interface where you can play with the parameters of some function using sliders. You don't need to worry about how the code works – but you do need to **run the cell** to enable the sliders.\n",
        "\n",
        "- Which type of function (exponential/inverse/linear) can you make match the data best?\n"
      ]
    },
    {
      "cell_type": "code",
      "metadata": {
        "cellView": "form",
        "execution": {
          "iopub.execute_input": "2021-07-03T17:54:23.458648Z",
          "iopub.status.busy": "2021-07-03T17:54:23.454106Z",
          "iopub.status.idle": "2021-07-03T17:54:23.875898Z",
          "shell.execute_reply": "2021-07-03T17:54:23.876365Z"
        },
        "pycharm": {
          "name": "#%%\n"
        },
        "colab": {
          "base_uri": "https://localhost:8080/",
          "height": 654,
          "referenced_widgets": [
            "82489b1f6d324994baea5df47473eca8",
            "1d3996b565a640ec8f9b56256bc7ba40",
            "1abba8144db14d6a9ead37b23839dfa9",
            "6235fd532f554fa0b38ba80a4153e47b",
            "760bf62d255947919dbbc962cf1f9e26",
            "fac1edc7b34a42af98c6bc9ec9339e4f",
            "53f3755b5f274796ad0da918c3da5419",
            "b284bd849f94498bb6e5e668d06bc48e",
            "47ead26e3a3e4152a1c8d46439de96f6",
            "a76f6404e2aa467f999073446372d226",
            "32673ea0575f4349830a1d9e0c779e9e",
            "effccd7593b743699b67a89bd7866e78",
            "c7b51802f6f246f2bad2397f73a02ca0",
            "bd118bd948074b209dcc7edba6b4a2bc",
            "9f5fe508ec28411bb3147876e32e6e57",
            "5db58809810f47edac3b3f92c9bcbb47",
            "4dbbd41da3234907a931f39ed00b42a4",
            "a2c2d8e8fdd54b47ad9c109cdd5ef81c",
            "b929722c9fcd4c2a801ae6bd8cbb86b5",
            "db1bfdac1db14c968053e73c49027c8f",
            "ea6ef8d0e666428686e5f2c01a274f07",
            "1300518f7a524751ae63e2aaa9c01111",
            "9dda24b170214861a9d4f08c05b896f0",
            "960e0acdc8044fbb928ecf90247ef8bf",
            "9d10dcc9829241da914200e8c0328791"
          ]
        },
        "id": "OoMQ1o6lQkDt",
        "outputId": "9e209e80-99e2-4857-d7a4-a568a8bd77fc"
      },
      "source": [
        "#@title\n",
        "\n",
        "#@markdown Be sure to run this cell to enable the demo\n",
        "# Don't worry about understanding this code! It's to setup an interactive plot.\n",
        "single_neuron_idx = 283\n",
        "single_neuron_spikes = spike_times[single_neuron_idx]\n",
        "single_neuron_isis = np.diff(single_neuron_spikes)\n",
        "\n",
        "counts, edges = np.histogram(\n",
        "  single_neuron_isis,\n",
        "  bins=50,\n",
        "  range=(0, single_neuron_isis.max())\n",
        ")\n",
        "\n",
        "functions = dict(\n",
        "  exponential=exponential,\n",
        "  inverse=inverse,\n",
        "  linear=linear,\n",
        ")\n",
        "\n",
        "colors = dict(\n",
        "  exponential=\"C1\",\n",
        "  inverse=\"C2\",\n",
        "  linear=\"C4\",\n",
        ")\n",
        "\n",
        "@widgets.interact(\n",
        "  exp_scale=widgets.FloatSlider(1000, min=0, max=20000, step=250),\n",
        "  exp_rate=widgets.FloatSlider(-10, min=-200, max=50, step=1),\n",
        "  exp_x0=widgets.FloatSlider(0.1, min=-0.5, max=0.5, step=0.005),\n",
        "  inv_scale=widgets.FloatSlider(1000, min=0, max=3e2, step=10),\n",
        "  inv_x0=widgets.FloatSlider(0, min=-0.2, max=0.2, step=0.01),\n",
        "  lin_slope=widgets.FloatSlider(-1e5, min=-6e5, max=1e5, step=10000),\n",
        "  lin_y0=widgets.FloatSlider(10000, min=0, max=4e4, step=1000),\n",
        ")\n",
        "def fit_plot(\n",
        "  exp_scale=1000, exp_rate=-10, exp_x0=0.1,\n",
        "  inv_scale=1000, inv_x0=0,\n",
        "  lin_slope=-1e5, lin_y0=2000,\n",
        "):\n",
        "  \"\"\"Helper function for plotting function fits with interactive sliders.\"\"\"\n",
        "  func_params = dict(\n",
        "    exponential=(exp_scale, exp_rate, exp_x0),\n",
        "    inverse=(inv_scale, inv_x0),\n",
        "    linear=(lin_slope, lin_y0),\n",
        "  )\n",
        "  f, ax = plt.subplots()\n",
        "  ax.fill_between(edges[:-1], counts, step=\"post\", alpha=.5)\n",
        "  xs = np.linspace(1e-10, edges.max())\n",
        "  for name, function in functions.items():\n",
        "    ys = function(xs, *func_params[name])\n",
        "    ax.plot(xs, ys, lw=3, color=colors[name], label=name);\n",
        "  ax.set(\n",
        "      xlim=(edges.min(), edges.max()),\n",
        "      ylim=(0, counts.max() * 1.1),\n",
        "      xlabel=\"ISI (s)\",\n",
        "      ylabel=\"Number of spikes\",\n",
        "  )\n",
        "  ax.legend()"
      ],
      "execution_count": 57,
      "outputs": [
        {
          "output_type": "display_data",
          "data": {
            "application/vnd.jupyter.widget-view+json": {
              "model_id": "82489b1f6d324994baea5df47473eca8",
              "version_minor": 0,
              "version_major": 2
            },
            "text/plain": [
              "interactive(children=(FloatSlider(value=1000.0, description='exp_scale', max=20000.0, step=250.0), FloatSlider…"
            ]
          },
          "metadata": {
            "tags": []
          }
        }
      ]
    },
    {
      "cell_type": "markdown",
      "metadata": {
        "execution": {
          "iopub.execute_input": "2021-07-03T17:54:23.881204Z",
          "iopub.status.busy": "2021-07-03T17:54:23.880570Z",
          "iopub.status.idle": "2021-07-03T17:54:23.884239Z",
          "shell.execute_reply": "2021-07-03T17:54:23.884689Z"
        },
        "id": "3wp-1TSlQkDt"
      },
      "source": [
        "[*Click for solution*](https://github.com/NeuromatchAcademy/course-content/tree/master//tutorials/W1D1_ModelTypes/solutions/W1D1_Tutorial1_Solution_b6cd7761.py)\n",
        "\n"
      ]
    },
    {
      "cell_type": "code",
      "metadata": {
        "cellView": "form",
        "execution": {
          "iopub.execute_input": "2021-07-03T17:54:23.896459Z",
          "iopub.status.busy": "2021-07-03T17:54:23.892167Z",
          "iopub.status.idle": "2021-07-03T17:54:23.957580Z",
          "shell.execute_reply": "2021-07-03T17:54:23.958179Z"
        },
        "colab": {
          "base_uri": "https://localhost:8080/",
          "height": 579,
          "referenced_widgets": [
            "6f7ac7fda2c44b86bb5fc04dd88ef11d",
            "88475f892f304a6da7116024cf0fc77b",
            "6243285e64c14fcb8f556ad3b7a17b73",
            "eb820746803e4d4388764d09a8d7e5a4",
            "5f21546f7f2240259c0622c2ab49607e",
            "bc231956e19c4a799a1fc5a508f70bc9"
          ]
        },
        "id": "sZtiZZQTQkDu",
        "outputId": "04578a81-8ed8-40de-d66b-df37907abaee"
      },
      "source": [
        "# @title Video 5: Fitting models by hand\n",
        "from ipywidgets import widgets\n",
        "\n",
        "out2 = widgets.Output()\n",
        "with out2:\n",
        "  from IPython.display import IFrame\n",
        "  class BiliVideo(IFrame):\n",
        "      def __init__(self, id, page=1, width=400, height=300, **kwargs):\n",
        "          self.id=id\n",
        "          src = 'https://player.bilibili.com/player.html?bvid={0}&page={1}'.format(id, page)\n",
        "          super(BiliVideo, self).__init__(src, width, height, **kwargs)\n",
        "\n",
        "  video = BiliVideo(id=\"BV1w54y1S7Eb\", width=854, height=480, fs=1)\n",
        "  print('Video available at https://www.bilibili.com/video/{0}'.format(video.id))\n",
        "  display(video)\n",
        "\n",
        "out1 = widgets.Output()\n",
        "with out1:\n",
        "  from IPython.display import YouTubeVideo\n",
        "  video = YouTubeVideo(id=\"uW2HDk_4-wk\", width=854, height=480, fs=1, rel=0)\n",
        "  print('Video available at https://youtube.com/watch?v=' + video.id)\n",
        "  display(video)\n",
        "\n",
        "out = widgets.Tab([out1, out2])\n",
        "out.set_title(0, 'Youtube')\n",
        "out.set_title(1, 'Bilibili')\n",
        "\n",
        "display(out)"
      ],
      "execution_count": 58,
      "outputs": [
        {
          "output_type": "display_data",
          "data": {
            "application/vnd.jupyter.widget-view+json": {
              "model_id": "6f7ac7fda2c44b86bb5fc04dd88ef11d",
              "version_minor": 0,
              "version_major": 2
            },
            "text/plain": [
              "Tab(children=(Output(), Output()), _titles={'0': 'Youtube', '1': 'Bilibili'})"
            ]
          },
          "metadata": {
            "tags": []
          }
        }
      ]
    },
    {
      "cell_type": "markdown",
      "metadata": {
        "id": "8xuEIyLWQkDu"
      },
      "source": [
        "---\n",
        "# Section 5: Reflecting on what models\n",
        "\n",
        "*Estimated timing to here from start of tutorial: 40 min*"
      ]
    },
    {
      "cell_type": "markdown",
      "metadata": {
        "id": "XlA5q2SoQkDv"
      },
      "source": [
        "## Think! 5: Reflecting on what models\n",
        "\n",
        "Please discuss the following questions for around 10 minutes with your group:\n",
        "- Have you seen what models before?\n",
        "- Have you ever done one?\n",
        "- Why are what models useful?\n",
        "- When are they possible? Does your field have what models?\n",
        "- What do we learn from constructing them?"
      ]
    },
    {
      "cell_type": "markdown",
      "metadata": {
        "id": "L8wl8Nl7QkDv"
      },
      "source": [
        "---\n",
        "# Summary\n",
        "\n",
        "*Estimated timing of tutorial: 50 minutes*\n",
        "\n",
        "In this tutorial, we loaded some neural data and poked at it to understand how the dataset is organized. Then we made some basic plots to visualize (1) the average level of activity across the population and (2) the distribution of ISIs for an individual neuron. In the very last bit, we started to think about using mathematical formalisms to understand or explain some physiological phenomenon. All of this only allowed us to understand \"What\" the data looks like.\n",
        "\n",
        "This is the first step towards developing models that can tell us something about the brain. That's what we'll focus on in the next two tutorials."
      ]
    }
  ]
}